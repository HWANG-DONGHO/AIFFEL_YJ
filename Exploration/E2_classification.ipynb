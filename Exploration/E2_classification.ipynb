{
 "cells": [
  {
   "cell_type": "markdown",
   "id": "another-houston",
   "metadata": {},
   "source": [
    "# Project 2-1. load_digits - 손글씨 분류"
   ]
  },
  {
   "cell_type": "markdown",
   "id": "naval-chuck",
   "metadata": {},
   "source": [
    "### (1) 필요한 모듈 import"
   ]
  },
  {
   "cell_type": "code",
   "execution_count": 93,
   "id": "civilian-bahrain",
   "metadata": {},
   "outputs": [],
   "source": [
    "from sklearn.datasets import load_digits\n",
    "from sklearn.model_selection import train_test_split\n",
    "from sklearn.metrics import classification_report\n",
    "from sklearn.metrics import confusion_matrix\n",
    "from collections import Counter\n",
    "from sklearn.tree import DecisionTreeClassifier\n",
    "from sklearn.ensemble import RandomForestClassifier\n",
    "from sklearn import svm\n",
    "from sklearn.linear_model import SGDClassifier\n",
    "from sklearn.linear_model import LogisticRegression\n",
    "import pandas as pd"
   ]
  },
  {
   "cell_type": "markdown",
   "id": "driving-healing",
   "metadata": {},
   "source": [
    "### (2) 데이터 준비"
   ]
  },
  {
   "cell_type": "code",
   "execution_count": 94,
   "id": "demanding-billion",
   "metadata": {},
   "outputs": [],
   "source": [
    "#데이터를 로드\n",
    "digits = load_digits()"
   ]
  },
  {
   "cell_type": "code",
   "execution_count": 95,
   "id": "opened-selection",
   "metadata": {},
   "outputs": [
    {
     "name": "stdout",
     "output_type": "stream",
     "text": [
      "Feature Data Shape :  (1797, 64)\n",
      "Label Data Shape :  (1797,)\n",
      "Target Names :  [0 1 2 3 4 5 6 7 8 9]\n"
     ]
    }
   ],
   "source": [
    "#데이터 Feature Data와 Label Data로 지정\n",
    "digits_data = digits.data\n",
    "digits_label = digits.target\n",
    "\n",
    "#데이터 확인\n",
    "print('Feature Data Shape : ', digits_data.shape) \n",
    "print('Label Data Shape : ', digits_label.shape)\n",
    "\n",
    "#Target Names 확인\n",
    "print('Target Names : ', digits.target_names)"
   ]
  },
  {
   "cell_type": "code",
   "execution_count": 96,
   "id": "based-caution",
   "metadata": {
    "scrolled": false
   },
   "outputs": [
    {
     "name": "stdout",
     "output_type": "stream",
     "text": [
      ".. _digits_dataset:\n",
      "\n",
      "Optical recognition of handwritten digits dataset\n",
      "--------------------------------------------------\n",
      "\n",
      "**Data Set Characteristics:**\n",
      "\n",
      "    :Number of Instances: 5620\n",
      "    :Number of Attributes: 64\n",
      "    :Attribute Information: 8x8 image of integer pixels in the range 0..16.\n",
      "    :Missing Attribute Values: None\n",
      "    :Creator: E. Alpaydin (alpaydin '@' boun.edu.tr)\n",
      "    :Date: July; 1998\n",
      "\n",
      "This is a copy of the test set of the UCI ML hand-written digits datasets\n",
      "https://archive.ics.uci.edu/ml/datasets/Optical+Recognition+of+Handwritten+Digits\n",
      "\n",
      "The data set contains images of hand-written digits: 10 classes where\n",
      "each class refers to a digit.\n",
      "\n",
      "Preprocessing programs made available by NIST were used to extract\n",
      "normalized bitmaps of handwritten digits from a preprinted form. From a\n",
      "total of 43 people, 30 contributed to the training set and different 13\n",
      "to the test set. 32x32 bitmaps are divided into nonoverlapping blocks of\n",
      "4x4 and the number of on pixels are counted in each block. This generates\n",
      "an input matrix of 8x8 where each element is an integer in the range\n",
      "0..16. This reduces dimensionality and gives invariance to small\n",
      "distortions.\n",
      "\n",
      "For info on NIST preprocessing routines, see M. D. Garris, J. L. Blue, G.\n",
      "T. Candela, D. L. Dimmick, J. Geist, P. J. Grother, S. A. Janet, and C.\n",
      "L. Wilson, NIST Form-Based Handprint Recognition System, NISTIR 5469,\n",
      "1994.\n",
      "\n",
      ".. topic:: References\n",
      "\n",
      "  - C. Kaynak (1995) Methods of Combining Multiple Classifiers and Their\n",
      "    Applications to Handwritten Digit Recognition, MSc Thesis, Institute of\n",
      "    Graduate Studies in Science and Engineering, Bogazici University.\n",
      "  - E. Alpaydin, C. Kaynak (1998) Cascading Classifiers, Kybernetika.\n",
      "  - Ken Tang and Ponnuthurai N. Suganthan and Xi Yao and A. Kai Qin.\n",
      "    Linear dimensionalityreduction using relevance weighted LDA. School of\n",
      "    Electrical and Electronic Engineering Nanyang Technological University.\n",
      "    2005.\n",
      "  - Claudio Gentile. A New Approximate Maximal Margin Classification\n",
      "    Algorithm. NIPS. 2000.\n"
     ]
    }
   ],
   "source": [
    "# Data Describe\n",
    "print(digits.DESCR)"
   ]
  },
  {
   "cell_type": "code",
   "execution_count": 97,
   "id": "proved-charter",
   "metadata": {},
   "outputs": [
    {
     "data": {
      "image/png": "[encoded data removed]",
      "text/plain": [
       "<Figure size 432x288 with 10 Axes>"
      ]
     },
     "metadata": {
      "needs_background": "light"
     },
     "output_type": "display_data"
    }
   ],
   "source": [
    "# 이미지 데이터 확인\n",
    "import matplotlib.pyplot as plt\n",
    "\n",
    "for i in range(10):\n",
    "    plt.subplot(2, 5, i+1)\n",
    "    plt.imshow(digits.data[i].reshape(8, 8), cmap='gray')\n",
    "    plt.axis('off')\n",
    "plt.show()"
   ]
  },
  {
   "cell_type": "markdown",
   "id": "nearby-burst",
   "metadata": {},
   "source": [
    "### (3) train, test 데이터 나누기"
   ]
  },
  {
   "cell_type": "code",
   "execution_count": 98,
   "id": "deluxe-ministry",
   "metadata": {},
   "outputs": [
    {
     "name": "stdout",
     "output_type": "stream",
     "text": [
      "X_train의 개수 :  1437 , X_test 개수 :  360\n",
      "(1437, 64) (1437,)\n",
      "(360, 64) (360,)\n"
     ]
    }
   ],
   "source": [
    "# scikit-learn의 train_test_split 메소드 사용\n",
    "X_train, X_test, y_train, y_test = train_test_split(digits_data,\n",
    "                                                   digits_label,\n",
    "                                                   test_size=0.2,\n",
    "                                                   random_state=777)\n",
    "\n",
    "#train : test = 8 : 2\n",
    "print('X_train의 개수 : ', len(X_train), ', X_test 개수 : ', len(X_test))\n",
    "print(X_train.shape, y_train.shape)\n",
    "print(X_test.shape, y_test.shape)"
   ]
  },
  {
   "cell_type": "markdown",
   "id": "living-ferry",
   "metadata": {},
   "source": [
    "### (4) 모델 별 학습 및 평가"
   ]
  },
  {
   "cell_type": "markdown",
   "id": "activated-joint",
   "metadata": {},
   "source": [
    "#### ① Decision Tree"
   ]
  },
  {
   "cell_type": "code",
   "execution_count": 99,
   "id": "prepared-wallace",
   "metadata": {},
   "outputs": [
    {
     "name": "stdout",
     "output_type": "stream",
     "text": [
      "              precision    recall  f1-score   support\n",
      "\n",
      "           0       0.95      0.95      0.95        38\n",
      "           1       0.72      0.86      0.78        36\n",
      "           2       0.83      0.75      0.79        32\n",
      "           3       0.79      1.00      0.89        27\n",
      "           4       0.73      0.84      0.78        32\n",
      "           5       0.95      0.86      0.90        42\n",
      "           6       0.91      0.89      0.90        36\n",
      "           7       0.87      0.87      0.87        39\n",
      "           8       0.93      0.70      0.80        40\n",
      "           9       0.86      0.84      0.85        38\n",
      "\n",
      "    accuracy                           0.85       360\n",
      "   macro avg       0.86      0.86      0.85       360\n",
      "weighted avg       0.86      0.85      0.85       360\n",
      "\n",
      "[[36  0  0  0  2  0  0  0  0  0]\n",
      " [ 0 31  2  0  1  0  0  1  1  0]\n",
      " [ 0  2 24  3  0  1  1  1  0  0]\n",
      " [ 0  0  0 27  0  0  0  0  0  0]\n",
      " [ 1  1  0  0 27  0  1  2  0  0]\n",
      " [ 0  0  0  1  0 36  0  0  1  4]\n",
      " [ 0  0  0  0  4  0 32  0  0  0]\n",
      " [ 0  1  1  1  2  0  0 34  0  0]\n",
      " [ 0  6  2  1  1  0  1  0 28  1]\n",
      " [ 1  2  0  1  0  1  0  1  0 32]]\n"
     ]
    }
   ],
   "source": [
    "decision_tree = DecisionTreeClassifier(random_state=777)\n",
    "decision_tree.fit(X_train, y_train)\n",
    "y_pred = decision_tree.predict(X_test)\n",
    "\n",
    "print(classification_report(y_test, y_pred))\n",
    "print(confusion_matrix(y_test, y_pred))"
   ]
  },
  {
   "cell_type": "markdown",
   "id": "individual-stand",
   "metadata": {},
   "source": [
    "#### ② Random Forest"
   ]
  },
  {
   "cell_type": "code",
   "execution_count": 100,
   "id": "perfect-tucson",
   "metadata": {},
   "outputs": [
    {
     "name": "stdout",
     "output_type": "stream",
     "text": [
      "              precision    recall  f1-score   support\n",
      "\n",
      "           0       1.00      1.00      1.00        38\n",
      "           1       0.84      1.00      0.91        36\n",
      "           2       1.00      0.94      0.97        32\n",
      "           3       0.93      1.00      0.96        27\n",
      "           4       1.00      0.97      0.98        32\n",
      "           5       0.98      0.95      0.96        42\n",
      "           6       1.00      1.00      1.00        36\n",
      "           7       0.97      0.97      0.97        39\n",
      "           8       1.00      0.88      0.93        40\n",
      "           9       0.95      0.95      0.95        38\n",
      "\n",
      "    accuracy                           0.96       360\n",
      "   macro avg       0.97      0.97      0.96       360\n",
      "weighted avg       0.97      0.96      0.96       360\n",
      "\n",
      "[[38  0  0  0  0  0  0  0  0  0]\n",
      " [ 0 36  0  0  0  0  0  0  0  0]\n",
      " [ 0  2 30  0  0  0  0  0  0  0]\n",
      " [ 0  0  0 27  0  0  0  0  0  0]\n",
      " [ 0  0  0  0 31  0  0  1  0  0]\n",
      " [ 0  0  0  1  0 40  0  0  0  1]\n",
      " [ 0  0  0  0  0  0 36  0  0  0]\n",
      " [ 0  0  0  0  0  0  0 38  0  1]\n",
      " [ 0  5  0  0  0  0  0  0 35  0]\n",
      " [ 0  0  0  1  0  1  0  0  0 36]]\n"
     ]
    }
   ],
   "source": [
    "random_forest = RandomForestClassifier(random_state = 777)\n",
    "random_forest.fit(X_train, y_train)\n",
    "y_pred = random_forest.predict(X_test)\n",
    "\n",
    "print(classification_report(y_test, y_pred))\n",
    "print(confusion_matrix(y_test, y_pred))"
   ]
  },
  {
   "cell_type": "markdown",
   "id": "fleet-kingdom",
   "metadata": {},
   "source": [
    "####  ③ SVM"
   ]
  },
  {
   "cell_type": "code",
   "execution_count": 101,
   "id": "honey-representative",
   "metadata": {},
   "outputs": [
    {
     "name": "stdout",
     "output_type": "stream",
     "text": [
      "              precision    recall  f1-score   support\n",
      "\n",
      "           0       1.00      1.00      1.00        38\n",
      "           1       0.92      1.00      0.96        36\n",
      "           2       1.00      1.00      1.00        32\n",
      "           3       1.00      1.00      1.00        27\n",
      "           4       1.00      1.00      1.00        32\n",
      "           5       0.95      0.98      0.96        42\n",
      "           6       1.00      1.00      1.00        36\n",
      "           7       1.00      0.97      0.99        39\n",
      "           8       1.00      0.93      0.96        40\n",
      "           9       0.95      0.95      0.95        38\n",
      "\n",
      "    accuracy                           0.98       360\n",
      "   macro avg       0.98      0.98      0.98       360\n",
      "weighted avg       0.98      0.98      0.98       360\n",
      "\n",
      "[[38  0  0  0  0  0  0  0  0  0]\n",
      " [ 0 36  0  0  0  0  0  0  0  0]\n",
      " [ 0  0 32  0  0  0  0  0  0  0]\n",
      " [ 0  0  0 27  0  0  0  0  0  0]\n",
      " [ 0  0  0  0 32  0  0  0  0  0]\n",
      " [ 0  0  0  0  0 41  0  0  0  1]\n",
      " [ 0  0  0  0  0  0 36  0  0  0]\n",
      " [ 0  0  0  0  0  0  0 38  0  1]\n",
      " [ 0  3  0  0  0  0  0  0 37  0]\n",
      " [ 0  0  0  0  0  2  0  0  0 36]]\n"
     ]
    }
   ],
   "source": [
    "svm_model = svm.SVC()\n",
    "svm_model.fit(X_train, y_train)\n",
    "y_pred = svm_model.predict(X_test)\n",
    "\n",
    "print(classification_report(y_test, y_pred))\n",
    "print(confusion_matrix(y_test, y_pred))"
   ]
  },
  {
   "cell_type": "markdown",
   "id": "front-conservation",
   "metadata": {},
   "source": [
    "#### ④ SGD Classifier"
   ]
  },
  {
   "cell_type": "code",
   "execution_count": 102,
   "id": "median-printing",
   "metadata": {},
   "outputs": [
    {
     "name": "stdout",
     "output_type": "stream",
     "text": [
      "              precision    recall  f1-score   support\n",
      "\n",
      "           0       0.97      1.00      0.99        38\n",
      "           1       0.80      0.97      0.88        36\n",
      "           2       1.00      1.00      1.00        32\n",
      "           3       0.93      1.00      0.96        27\n",
      "           4       1.00      0.94      0.97        32\n",
      "           5       0.98      0.95      0.96        42\n",
      "           6       0.95      0.97      0.96        36\n",
      "           7       0.97      0.92      0.95        39\n",
      "           8       1.00      0.70      0.82        40\n",
      "           9       0.86      0.97      0.91        38\n",
      "\n",
      "    accuracy                           0.94       360\n",
      "   macro avg       0.95      0.94      0.94       360\n",
      "weighted avg       0.95      0.94      0.94       360\n",
      "\n",
      "[[38  0  0  0  0  0  0  0  0  0]\n",
      " [ 0 35  0  1  0  0  0  0  0  0]\n",
      " [ 0  0 32  0  0  0  0  0  0  0]\n",
      " [ 0  0  0 27  0  0  0  0  0  0]\n",
      " [ 0  0  0  0 30  0  1  1  0  0]\n",
      " [ 0  0  0  0  0 40  0  0  0  2]\n",
      " [ 0  1  0  0  0  0 35  0  0  0]\n",
      " [ 0  0  0  0  0  0  0 36  0  3]\n",
      " [ 1  8  0  1  0  0  1  0 28  1]\n",
      " [ 0  0  0  0  0  1  0  0  0 37]]\n"
     ]
    }
   ],
   "source": [
    "sgd_model = SGDClassifier()\n",
    "sgd_model.fit(X_train, y_train)\n",
    "y_pred = sgd_model.predict(X_test)\n",
    "\n",
    "print(classification_report(y_test, y_pred))\n",
    "print(confusion_matrix(y_test, y_pred))"
   ]
  },
  {
   "cell_type": "markdown",
   "id": "polyphonic-palestine",
   "metadata": {},
   "source": [
    "#### ⑤ Logistic Regression"
   ]
  },
  {
   "cell_type": "code",
   "execution_count": 103,
   "id": "radio-tutorial",
   "metadata": {},
   "outputs": [
    {
     "name": "stdout",
     "output_type": "stream",
     "text": [
      "              precision    recall  f1-score   support\n",
      "\n",
      "           0       1.00      1.00      1.00        38\n",
      "           1       0.86      1.00      0.92        36\n",
      "           2       0.97      0.97      0.97        32\n",
      "           3       0.93      0.96      0.95        27\n",
      "           4       0.97      0.97      0.97        32\n",
      "           5       0.93      0.93      0.93        42\n",
      "           6       1.00      0.97      0.99        36\n",
      "           7       0.97      0.95      0.96        39\n",
      "           8       1.00      0.82      0.90        40\n",
      "           9       0.88      0.92      0.90        38\n",
      "\n",
      "    accuracy                           0.95       360\n",
      "   macro avg       0.95      0.95      0.95       360\n",
      "weighted avg       0.95      0.95      0.95       360\n",
      "\n",
      "[[38  0  0  0  0  0  0  0  0  0]\n",
      " [ 0 36  0  0  0  0  0  0  0  0]\n",
      " [ 0  1 31  0  0  0  0  0  0  0]\n",
      " [ 0  0  0 26  0  0  0  0  0  1]\n",
      " [ 0  0  0  0 31  0  0  1  0  0]\n",
      " [ 0  0  0  1  0 39  0  0  0  2]\n",
      " [ 0  1  0  0  0  0 35  0  0  0]\n",
      " [ 0  0  0  0  0  1  0 37  0  1]\n",
      " [ 0  3  1  0  1  1  0  0 33  1]\n",
      " [ 0  1  0  1  0  1  0  0  0 35]]\n"
     ]
    }
   ],
   "source": [
    "logistic_model = LogisticRegression(max_iter=2700)\n",
    "logistic_model.fit(X_train, y_train)\n",
    "y_pred = logistic_model.predict(X_test)\n",
    "\n",
    "print(classification_report(y_test, y_pred))\n",
    "print(confusion_matrix(y_test, y_pred))"
   ]
  },
  {
   "cell_type": "markdown",
   "id": "packed-surprise",
   "metadata": {},
   "source": [
    "### Project 2-1. 정리"
   ]
  },
  {
   "cell_type": "markdown",
   "id": "selected-tractor",
   "metadata": {},
   "source": [
    "* 8x8 손글씨 이미지 데이터 1797개를 이용해 숫자 0부터 9까지의 10개 클래스로 분류하는 문제다.\n",
    "* 가장 성능이 낮은 모델은 정확도가 0.86인 Decision Tree모델이다. 정답 레이블은 8인데 예측 레이블은 다른 값으로 예측한 경우와 정답 레이블은 다른 값인데 예측 레이블이 9인 경우가 많이 발생했다.\n",
    "* 반면 가장 성능이 좋은 모델은 정확도가 0.99인 SVM모델이다. 전체 Test 데이터 360개 중 잘못 예측한 경우가 4번밖에 발생하지 않았다.\n",
    "* 그 외 다른 모델들도 0.9이상의 정확도가 나왔다."
   ]
  },
  {
   "cell_type": "markdown",
   "id": "sacred-invalid",
   "metadata": {},
   "source": [
    "#### → 최종 모델은 SVM모델이다."
   ]
  },
  {
   "cell_type": "markdown",
   "id": "impressive-policy",
   "metadata": {},
   "source": [
    "------------------------------------------------------------------------"
   ]
  },
  {
   "cell_type": "markdown",
   "id": "willing-hello",
   "metadata": {},
   "source": [
    "# 프로젝트 2-2 load_wine - 와인 분류"
   ]
  },
  {
   "cell_type": "markdown",
   "id": "lasting-macro",
   "metadata": {},
   "source": [
    "### (1) 데이터 준비"
   ]
  },
  {
   "cell_type": "code",
   "execution_count": 104,
   "id": "independent-courtesy",
   "metadata": {},
   "outputs": [],
   "source": [
    "from sklearn.datasets import load_wine\n",
    "\n",
    "#데이터를 로드\n",
    "wine = load_wine()"
   ]
  },
  {
   "cell_type": "markdown",
   "id": "bright-wings",
   "metadata": {},
   "source": [
    "### (2) 데이터 확인"
   ]
  },
  {
   "cell_type": "code",
   "execution_count": 105,
   "id": "physical-plaintiff",
   "metadata": {},
   "outputs": [
    {
     "name": "stdout",
     "output_type": "stream",
     "text": [
      "Feature Data Shape :  (178, 13)\n",
      "Label Data Shape :  (178,)\n",
      "Target Names :  ['class_0' 'class_1' 'class_2']\n"
     ]
    }
   ],
   "source": [
    "#데이터 Feature Data와 Label Data로 지정\n",
    "wine_data = wine.data\n",
    "wine_label = wine.target\n",
    "\n",
    "#데이터 확인\n",
    "print('Feature Data Shape : ', wine_data.shape) \n",
    "print('Label Data Shape : ', wine_label.shape)\n",
    "\n",
    "#Target Names 확인\n",
    "print('Target Names : ', wine.target_names)"
   ]
  },
  {
   "cell_type": "code",
   "execution_count": 106,
   "id": "european-flush",
   "metadata": {},
   "outputs": [
    {
     "name": "stdout",
     "output_type": "stream",
     "text": [
      "[1.423e+01 1.710e+00 2.430e+00 1.560e+01 1.270e+02 2.800e+00 3.060e+00\n",
      " 2.800e-01 2.290e+00 5.640e+00 1.040e+00 3.920e+00 1.065e+03]\n"
     ]
    }
   ],
   "source": [
    "#데이터 값 확인\n",
    "print(wine_data[0])"
   ]
  },
  {
   "cell_type": "code",
   "execution_count": 107,
   "id": "international-worship",
   "metadata": {},
   "outputs": [
    {
     "name": "stdout",
     "output_type": "stream",
     "text": [
      ".. _digits_dataset:\n",
      "\n",
      "Optical recognition of handwritten digits dataset\n",
      "--------------------------------------------------\n",
      "\n",
      "**Data Set Characteristics:**\n",
      "\n",
      "    :Number of Instances: 5620\n",
      "    :Number of Attributes: 64\n",
      "    :Attribute Information: 8x8 image of integer pixels in the range 0..16.\n",
      "    :Missing Attribute Values: None\n",
      "    :Creator: E. Alpaydin (alpaydin '@' boun.edu.tr)\n",
      "    :Date: July; 1998\n",
      "\n",
      "This is a copy of the test set of the UCI ML hand-written digits datasets\n",
      "https://archive.ics.uci.edu/ml/datasets/Optical+Recognition+of+Handwritten+Digits\n",
      "\n",
      "The data set contains images of hand-written digits: 10 classes where\n",
      "each class refers to a digit.\n",
      "\n",
      "Preprocessing programs made available by NIST were used to extract\n",
      "normalized bitmaps of handwritten digits from a preprinted form. From a\n",
      "total of 43 people, 30 contributed to the training set and different 13\n",
      "to the test set. 32x32 bitmaps are divided into nonoverlapping blocks of\n",
      "4x4 and the number of on pixels are counted in each block. This generates\n",
      "an input matrix of 8x8 where each element is an integer in the range\n",
      "0..16. This reduces dimensionality and gives invariance to small\n",
      "distortions.\n",
      "\n",
      "For info on NIST preprocessing routines, see M. D. Garris, J. L. Blue, G.\n",
      "T. Candela, D. L. Dimmick, J. Geist, P. J. Grother, S. A. Janet, and C.\n",
      "L. Wilson, NIST Form-Based Handprint Recognition System, NISTIR 5469,\n",
      "1994.\n",
      "\n",
      ".. topic:: References\n",
      "\n",
      "  - C. Kaynak (1995) Methods of Combining Multiple Classifiers and Their\n",
      "    Applications to Handwritten Digit Recognition, MSc Thesis, Institute of\n",
      "    Graduate Studies in Science and Engineering, Bogazici University.\n",
      "  - E. Alpaydin, C. Kaynak (1998) Cascading Classifiers, Kybernetika.\n",
      "  - Ken Tang and Ponnuthurai N. Suganthan and Xi Yao and A. Kai Qin.\n",
      "    Linear dimensionalityreduction using relevance weighted LDA. School of\n",
      "    Electrical and Electronic Engineering Nanyang Technological University.\n",
      "    2005.\n",
      "  - Claudio Gentile. A New Approximate Maximal Margin Classification\n",
      "    Algorithm. NIPS. 2000.\n"
     ]
    }
   ],
   "source": [
    "# Data Describe\n",
    "print(digits.DESCR)"
   ]
  },
  {
   "cell_type": "markdown",
   "id": "partial-fields",
   "metadata": {},
   "source": [
    "### (3) train, test 데이터 나누기"
   ]
  },
  {
   "cell_type": "code",
   "execution_count": 108,
   "id": "distinguished-bahamas",
   "metadata": {},
   "outputs": [
    {
     "name": "stdout",
     "output_type": "stream",
     "text": [
      "X_train의 개수 :  142 , X_test 개수 :  36\n",
      "(142, 13) (142,)\n",
      "(36, 13) (36,)\n"
     ]
    }
   ],
   "source": [
    "# scikit-learn의 train_test_split 메소드 사용\n",
    "X_train, X_test, y_train, y_test = train_test_split(wine_data,\n",
    "                                                   wine_label,\n",
    "                                                   test_size=0.2,\n",
    "                                                   random_state=777)\n",
    "\n",
    "#train : test = 8 : 2\n",
    "print('X_train의 개수 : ', len(X_train), ', X_test 개수 : ', len(X_test))\n",
    "print(X_train.shape, y_train.shape)\n",
    "print(X_test.shape, y_test.shape)"
   ]
  },
  {
   "cell_type": "markdown",
   "id": "dimensional-doctrine",
   "metadata": {},
   "source": [
    "### (4) 모델 별 학습 및 평가"
   ]
  },
  {
   "cell_type": "markdown",
   "id": "running-bookmark",
   "metadata": {},
   "source": [
    "#### ① Decision Tree"
   ]
  },
  {
   "cell_type": "code",
   "execution_count": 109,
   "id": "fatal-pressure",
   "metadata": {},
   "outputs": [
    {
     "name": "stdout",
     "output_type": "stream",
     "text": [
      "              precision    recall  f1-score   support\n",
      "\n",
      "           0       0.92      1.00      0.96        11\n",
      "           1       1.00      0.93      0.97        15\n",
      "           2       1.00      1.00      1.00        10\n",
      "\n",
      "    accuracy                           0.97        36\n",
      "   macro avg       0.97      0.98      0.97        36\n",
      "weighted avg       0.97      0.97      0.97        36\n",
      "\n",
      "[[11  0  0]\n",
      " [ 1 14  0]\n",
      " [ 0  0 10]]\n"
     ]
    }
   ],
   "source": [
    "decision_tree = DecisionTreeClassifier(random_state=777)\n",
    "decision_tree.fit(X_train, y_train)\n",
    "y_pred = decision_tree.predict(X_test)\n",
    "\n",
    "print(classification_report(y_test, y_pred))\n",
    "print(confusion_matrix(y_test, y_pred))"
   ]
  },
  {
   "cell_type": "markdown",
   "id": "headed-association",
   "metadata": {},
   "source": [
    "#### ② Random Forest"
   ]
  },
  {
   "cell_type": "code",
   "execution_count": 110,
   "id": "inside-departure",
   "metadata": {},
   "outputs": [
    {
     "name": "stdout",
     "output_type": "stream",
     "text": [
      "              precision    recall  f1-score   support\n",
      "\n",
      "           0       1.00      1.00      1.00        11\n",
      "           1       1.00      1.00      1.00        15\n",
      "           2       1.00      1.00      1.00        10\n",
      "\n",
      "    accuracy                           1.00        36\n",
      "   macro avg       1.00      1.00      1.00        36\n",
      "weighted avg       1.00      1.00      1.00        36\n",
      "\n",
      "[[11  0  0]\n",
      " [ 0 15  0]\n",
      " [ 0  0 10]]\n"
     ]
    }
   ],
   "source": [
    "random_forest = RandomForestClassifier(random_state = 777)\n",
    "random_forest.fit(X_train, y_train)\n",
    "y_pred = random_forest.predict(X_test)\n",
    "\n",
    "print(classification_report(y_test, y_pred))\n",
    "print(confusion_matrix(y_test, y_pred))"
   ]
  },
  {
   "cell_type": "markdown",
   "id": "underlying-denmark",
   "metadata": {},
   "source": [
    "#### ③ SVM"
   ]
  },
  {
   "cell_type": "code",
   "execution_count": 111,
   "id": "relative-cache",
   "metadata": {},
   "outputs": [
    {
     "name": "stdout",
     "output_type": "stream",
     "text": [
      "              precision    recall  f1-score   support\n",
      "\n",
      "           0       0.82      0.82      0.82        11\n",
      "           1       0.67      0.93      0.78        15\n",
      "           2       0.50      0.20      0.29        10\n",
      "\n",
      "    accuracy                           0.69        36\n",
      "   macro avg       0.66      0.65      0.63        36\n",
      "weighted avg       0.67      0.69      0.65        36\n",
      "\n",
      "[[ 9  0  2]\n",
      " [ 1 14  0]\n",
      " [ 1  7  2]]\n"
     ]
    }
   ],
   "source": [
    "svm_model = svm.SVC()\n",
    "svm_model.fit(X_train, y_train)\n",
    "y_pred = svm_model.predict(X_test)\n",
    "\n",
    "print(classification_report(y_test, y_pred))\n",
    "print(confusion_matrix(y_test, y_pred))"
   ]
  },
  {
   "cell_type": "markdown",
   "id": "foster-tract",
   "metadata": {},
   "source": [
    "#### ④ SGD Classifier"
   ]
  },
  {
   "cell_type": "code",
   "execution_count": 112,
   "id": "decent-absolute",
   "metadata": {},
   "outputs": [
    {
     "name": "stdout",
     "output_type": "stream",
     "text": [
      "              precision    recall  f1-score   support\n",
      "\n",
      "           0       0.71      0.91      0.80        11\n",
      "           1       0.91      0.67      0.77        15\n",
      "           2       0.55      0.60      0.57        10\n",
      "\n",
      "    accuracy                           0.72        36\n",
      "   macro avg       0.72      0.73      0.71        36\n",
      "weighted avg       0.75      0.72      0.72        36\n",
      "\n",
      "[[10  0  1]\n",
      " [ 1 10  4]\n",
      " [ 3  1  6]]\n"
     ]
    }
   ],
   "source": [
    "sgd_model = SGDClassifier(max_iter=2700)\n",
    "sgd_model.fit(X_train, y_train)\n",
    "y_pred = sgd_model.predict(X_test)\n",
    "\n",
    "print(classification_report(y_test, y_pred))\n",
    "print(confusion_matrix(y_test, y_pred))"
   ]
  },
  {
   "cell_type": "markdown",
   "id": "small-smell",
   "metadata": {},
   "source": [
    "#### ⑤ Logistic Regression"
   ]
  },
  {
   "cell_type": "code",
   "execution_count": 113,
   "id": "documentary-burner",
   "metadata": {},
   "outputs": [
    {
     "name": "stdout",
     "output_type": "stream",
     "text": [
      "              precision    recall  f1-score   support\n",
      "\n",
      "           0       0.91      0.91      0.91        11\n",
      "           1       0.93      0.93      0.93        15\n",
      "           2       1.00      1.00      1.00        10\n",
      "\n",
      "    accuracy                           0.94        36\n",
      "   macro avg       0.95      0.95      0.95        36\n",
      "weighted avg       0.94      0.94      0.94        36\n",
      "\n",
      "[[10  1  0]\n",
      " [ 1 14  0]\n",
      " [ 0  0 10]]\n"
     ]
    }
   ],
   "source": [
    "logistic_model = LogisticRegression(max_iter=2700)\n",
    "logistic_model.fit(X_train, y_train)\n",
    "y_pred = logistic_model.predict(X_test)\n",
    "\n",
    "print(classification_report(y_test, y_pred))\n",
    "print(confusion_matrix(y_test, y_pred))"
   ]
  },
  {
   "cell_type": "markdown",
   "id": "small-singapore",
   "metadata": {},
   "source": [
    "### Project 2-2. 정리"
   ]
  },
  {
   "cell_type": "markdown",
   "id": "contained-angle",
   "metadata": {},
   "source": [
    "* 13개의 특성을 가지는 178개의 와인 데이터를 이용해 3가지 종류로 분류하는 문제다.\n",
    "* 가장 성능이 낮은 모델은 정확도가 0.6정도가 나오는 SVM모델과 SGD Classifier 모델이다. 특히 3번 레이블을 2번으로 예측하는 경우가 자주 발생했다. 두 모델의 분류 방식이 wine dataset에 적합하지 않은 모델이라는 것을 알 수 있다.\n",
    "* 가장 성능이 좋은 모델은 정확도가 1이 나오는 Random Forest모델이다. 전체 Test 데이터를 정확하게 분류해냈다.\n",
    "* 그 외 다른 모델들도 0.9 이상의 정확도가 나왔다."
   ]
  },
  {
   "cell_type": "markdown",
   "id": "thirty-alloy",
   "metadata": {},
   "source": [
    "#### → 최종 모델은 Random Forest모델이다."
   ]
  },
  {
   "cell_type": "markdown",
   "id": "subject-tribune",
   "metadata": {},
   "source": [
    "# 프로젝트 2-3 load_breast_cancer - 유방암 여부 분류"
   ]
  },
  {
   "cell_type": "markdown",
   "id": "veterinary-microphone",
   "metadata": {},
   "source": [
    "### (1) 데이터 준비"
   ]
  },
  {
   "cell_type": "code",
   "execution_count": 114,
   "id": "rising-replacement",
   "metadata": {},
   "outputs": [],
   "source": [
    "from sklearn.datasets import load_breast_cancer\n",
    "\n",
    "#데이터를 로드\n",
    "cancer = load_breast_cancer()"
   ]
  },
  {
   "cell_type": "markdown",
   "id": "latter-baking",
   "metadata": {},
   "source": [
    "### (2) 데이터 확인"
   ]
  },
  {
   "cell_type": "code",
   "execution_count": 115,
   "id": "naked-fellowship",
   "metadata": {},
   "outputs": [
    {
     "name": "stdout",
     "output_type": "stream",
     "text": [
      "Feature Data Shape :  (569, 30)\n",
      "Label Data Shape :  (569,)\n",
      "Target Names :  ['malignant' 'benign']\n"
     ]
    }
   ],
   "source": [
    "#데이터 Feature Data와 Label Data로 지정\n",
    "cancer_data = cancer.data\n",
    "cancer_label = cancer.target\n",
    "\n",
    "#데이터 확인\n",
    "print('Feature Data Shape : ', cancer_data.shape) \n",
    "print('Label Data Shape : ', cancer_label.shape)\n",
    "\n",
    "#Target Names 확인\n",
    "print('Target Names : ', cancer.target_names)"
   ]
  },
  {
   "cell_type": "code",
   "execution_count": 116,
   "id": "swiss-devil",
   "metadata": {
    "scrolled": false
   },
   "outputs": [
    {
     "name": "stdout",
     "output_type": "stream",
     "text": [
      ".. _breast_cancer_dataset:\n",
      "\n",
      "Breast cancer wisconsin (diagnostic) dataset\n",
      "--------------------------------------------\n",
      "\n",
      "**Data Set Characteristics:**\n",
      "\n",
      "    :Number of Instances: 569\n",
      "\n",
      "    :Number of Attributes: 30 numeric, predictive attributes and the class\n",
      "\n",
      "    :Attribute Information:\n",
      "        - radius (mean of distances from center to points on the perimeter)\n",
      "        - texture (standard deviation of gray-scale values)\n",
      "        - perimeter\n",
      "        - area\n",
      "        - smoothness (local variation in radius lengths)\n",
      "        - compactness (perimeter^2 / area - 1.0)\n",
      "        - concavity (severity of concave portions of the contour)\n",
      "        - concave points (number of concave portions of the contour)\n",
      "        - symmetry\n",
      "        - fractal dimension (\"coastline approximation\" - 1)\n",
      "\n",
      "        The mean, standard error, and \"worst\" or largest (mean of the three\n",
      "        worst/largest values) of these features were computed for each image,\n",
      "        resulting in 30 features.  For instance, field 0 is Mean Radius, field\n",
      "        10 is Radius SE, field 20 is Worst Radius.\n",
      "\n",
      "        - class:\n",
      "                - WDBC-Malignant\n",
      "                - WDBC-Benign\n",
      "\n",
      "    :Summary Statistics:\n",
      "\n",
      "    ===================================== ====== ======\n",
      "                                           Min    Max\n",
      "    ===================================== ====== ======\n",
      "    radius (mean):                        6.981  28.11\n",
      "    texture (mean):                       9.71   39.28\n",
      "    perimeter (mean):                     43.79  188.5\n",
      "    area (mean):                          143.5  2501.0\n",
      "    smoothness (mean):                    0.053  0.163\n",
      "    compactness (mean):                   0.019  0.345\n",
      "    concavity (mean):                     0.0    0.427\n",
      "    concave points (mean):                0.0    0.201\n",
      "    symmetry (mean):                      0.106  0.304\n",
      "    fractal dimension (mean):             0.05   0.097\n",
      "    radius (standard error):              0.112  2.873\n",
      "    texture (standard error):             0.36   4.885\n",
      "    perimeter (standard error):           0.757  21.98\n",
      "    area (standard error):                6.802  542.2\n",
      "    smoothness (standard error):          0.002  0.031\n",
      "    compactness (standard error):         0.002  0.135\n",
      "    concavity (standard error):           0.0    0.396\n",
      "    concave points (standard error):      0.0    0.053\n",
      "    symmetry (standard error):            0.008  0.079\n",
      "    fractal dimension (standard error):   0.001  0.03\n",
      "    radius (worst):                       7.93   36.04\n",
      "    texture (worst):                      12.02  49.54\n",
      "    perimeter (worst):                    50.41  251.2\n",
      "    area (worst):                         185.2  4254.0\n",
      "    smoothness (worst):                   0.071  0.223\n",
      "    compactness (worst):                  0.027  1.058\n",
      "    concavity (worst):                    0.0    1.252\n",
      "    concave points (worst):               0.0    0.291\n",
      "    symmetry (worst):                     0.156  0.664\n",
      "    fractal dimension (worst):            0.055  0.208\n",
      "    ===================================== ====== ======\n",
      "\n",
      "    :Missing Attribute Values: None\n",
      "\n",
      "    :Class Distribution: 212 - Malignant, 357 - Benign\n",
      "\n",
      "    :Creator:  Dr. William H. Wolberg, W. Nick Street, Olvi L. Mangasarian\n",
      "\n",
      "    :Donor: Nick Street\n",
      "\n",
      "    :Date: November, 1995\n",
      "\n",
      "This is a copy of UCI ML Breast Cancer Wisconsin (Diagnostic) datasets.\n",
      "https://goo.gl/U2Uwz2\n",
      "\n",
      "Features are computed from a digitized image of a fine needle\n",
      "aspirate (FNA) of a breast mass.  They describe\n",
      "characteristics of the cell nuclei present in the image.\n",
      "\n",
      "Separating plane described above was obtained using\n",
      "Multisurface Method-Tree (MSM-T) [K. P. Bennett, \"Decision Tree\n",
      "Construction Via Linear Programming.\" Proceedings of the 4th\n",
      "Midwest Artificial Intelligence and Cognitive Science Society,\n",
      "pp. 97-101, 1992], a classification method which uses linear\n",
      "programming to construct a decision tree.  Relevant features\n",
      "were selected using an exhaustive search in the space of 1-4\n",
      "features and 1-3 separating planes.\n",
      "\n",
      "The actual linear program used to obtain the separating plane\n",
      "in the 3-dimensional space is that described in:\n",
      "[K. P. Bennett and O. L. Mangasarian: \"Robust Linear\n",
      "Programming Discrimination of Two Linearly Inseparable Sets\",\n",
      "Optimization Methods and Software 1, 1992, 23-34].\n",
      "\n",
      "This database is also available through the UW CS ftp server:\n",
      "\n",
      "ftp ftp.cs.wisc.edu\n",
      "cd math-prog/cpo-dataset/machine-learn/WDBC/\n",
      "\n",
      ".. topic:: References\n",
      "\n",
      "   - W.N. Street, W.H. Wolberg and O.L. Mangasarian. Nuclear feature extraction \n",
      "     for breast tumor diagnosis. IS&T/SPIE 1993 International Symposium on \n",
      "     Electronic Imaging: Science and Technology, volume 1905, pages 861-870,\n",
      "     San Jose, CA, 1993.\n",
      "   - O.L. Mangasarian, W.N. Street and W.H. Wolberg. Breast cancer diagnosis and \n",
      "     prognosis via linear programming. Operations Research, 43(4), pages 570-577, \n",
      "     July-August 1995.\n",
      "   - W.H. Wolberg, W.N. Street, and O.L. Mangasarian. Machine learning techniques\n",
      "     to diagnose breast cancer from fine-needle aspirates. Cancer Letters 77 (1994) \n",
      "     163-171.\n"
     ]
    }
   ],
   "source": [
    "# Data Describe\n",
    "print(cancer.DESCR)"
   ]
  },
  {
   "cell_type": "markdown",
   "id": "immediate-tribune",
   "metadata": {},
   "source": [
    "### (3) train, test 데이터 나누기"
   ]
  },
  {
   "cell_type": "code",
   "execution_count": 117,
   "id": "blind-possible",
   "metadata": {},
   "outputs": [
    {
     "name": "stdout",
     "output_type": "stream",
     "text": [
      "X_train의 개수 :  455 , X_test 개수 :  114\n",
      "(455, 30) (455,)\n",
      "(114, 30) (114,)\n"
     ]
    }
   ],
   "source": [
    "# scikit-learn의 train_test_split 메소드 사용\n",
    "X_train, X_test, y_train, y_test = train_test_split(cancer_data,\n",
    "                                                   cancer_label,\n",
    "                                                   test_size=0.2,\n",
    "                                                   random_state=777)\n",
    "\n",
    "#train : test = 8 : 2\n",
    "print('X_train의 개수 : ', len(X_train), ', X_test 개수 : ', len(X_test))\n",
    "print(X_train.shape, y_train.shape)\n",
    "print(X_test.shape, y_test.shape)"
   ]
  },
  {
   "cell_type": "markdown",
   "id": "superior-dubai",
   "metadata": {},
   "source": [
    "### (4) 모델 별 학습 및 평가"
   ]
  },
  {
   "cell_type": "markdown",
   "id": "liable-murray",
   "metadata": {},
   "source": [
    "#### ① Decision Tree"
   ]
  },
  {
   "cell_type": "code",
   "execution_count": 118,
   "id": "gorgeous-detector",
   "metadata": {},
   "outputs": [
    {
     "name": "stdout",
     "output_type": "stream",
     "text": [
      "              precision    recall  f1-score   support\n",
      "\n",
      "           0       0.87      0.89      0.88        38\n",
      "           1       0.95      0.93      0.94        76\n",
      "\n",
      "    accuracy                           0.92       114\n",
      "   macro avg       0.91      0.91      0.91       114\n",
      "weighted avg       0.92      0.92      0.92       114\n",
      "\n",
      "[[34  4]\n",
      " [ 5 71]]\n"
     ]
    }
   ],
   "source": [
    "decision_tree = DecisionTreeClassifier(random_state=777)\n",
    "decision_tree.fit(X_train, y_train)\n",
    "y_pred = decision_tree.predict(X_test)\n",
    "\n",
    "print(classification_report(y_test, y_pred))\n",
    "print(confusion_matrix(y_test, y_pred))"
   ]
  },
  {
   "cell_type": "markdown",
   "id": "elementary-sphere",
   "metadata": {},
   "source": [
    "#### ② Random Forest"
   ]
  },
  {
   "cell_type": "code",
   "execution_count": 119,
   "id": "higher-hearing",
   "metadata": {},
   "outputs": [
    {
     "name": "stdout",
     "output_type": "stream",
     "text": [
      "              precision    recall  f1-score   support\n",
      "\n",
      "           0       1.00      0.87      0.93        38\n",
      "           1       0.94      1.00      0.97        76\n",
      "\n",
      "    accuracy                           0.96       114\n",
      "   macro avg       0.97      0.93      0.95       114\n",
      "weighted avg       0.96      0.96      0.96       114\n",
      "\n",
      "[[33  5]\n",
      " [ 0 76]]\n"
     ]
    }
   ],
   "source": [
    "random_forest = RandomForestClassifier(random_state = 777)\n",
    "random_forest.fit(X_train, y_train)\n",
    "y_pred = random_forest.predict(X_test)\n",
    "\n",
    "print(classification_report(y_test, y_pred))\n",
    "print(confusion_matrix(y_test, y_pred))"
   ]
  },
  {
   "cell_type": "markdown",
   "id": "accurate-promotion",
   "metadata": {},
   "source": [
    "#### ③ SVM"
   ]
  },
  {
   "cell_type": "code",
   "execution_count": 120,
   "id": "weekly-plain",
   "metadata": {},
   "outputs": [
    {
     "name": "stdout",
     "output_type": "stream",
     "text": [
      "              precision    recall  f1-score   support\n",
      "\n",
      "           0       1.00      0.71      0.83        38\n",
      "           1       0.87      1.00      0.93        76\n",
      "\n",
      "    accuracy                           0.90       114\n",
      "   macro avg       0.94      0.86      0.88       114\n",
      "weighted avg       0.92      0.90      0.90       114\n",
      "\n",
      "[[27 11]\n",
      " [ 0 76]]\n"
     ]
    }
   ],
   "source": [
    "svm_model = svm.SVC()\n",
    "svm_model.fit(X_train, y_train)\n",
    "y_pred = svm_model.predict(X_test)\n",
    "\n",
    "print(classification_report(y_test, y_pred))\n",
    "print(confusion_matrix(y_test, y_pred))"
   ]
  },
  {
   "cell_type": "markdown",
   "id": "dynamic-knowing",
   "metadata": {},
   "source": [
    "#### ④ SGD Classifier"
   ]
  },
  {
   "cell_type": "code",
   "execution_count": 121,
   "id": "cosmetic-personality",
   "metadata": {},
   "outputs": [
    {
     "name": "stdout",
     "output_type": "stream",
     "text": [
      "              precision    recall  f1-score   support\n",
      "\n",
      "           0       0.97      0.87      0.92        38\n",
      "           1       0.94      0.99      0.96        76\n",
      "\n",
      "    accuracy                           0.95       114\n",
      "   macro avg       0.95      0.93      0.94       114\n",
      "weighted avg       0.95      0.95      0.95       114\n",
      "\n",
      "[[33  5]\n",
      " [ 1 75]]\n"
     ]
    }
   ],
   "source": [
    "sgd_model = SGDClassifier()\n",
    "sgd_model.fit(X_train, y_train)\n",
    "y_pred = sgd_model.predict(X_test)\n",
    "\n",
    "print(classification_report(y_test, y_pred))\n",
    "print(confusion_matrix(y_test, y_pred))"
   ]
  },
  {
   "cell_type": "markdown",
   "id": "aging-conducting",
   "metadata": {},
   "source": [
    "#### ⑤ Logistic Regression"
   ]
  },
  {
   "cell_type": "code",
   "execution_count": 122,
   "id": "answering-martin",
   "metadata": {},
   "outputs": [
    {
     "name": "stdout",
     "output_type": "stream",
     "text": [
      "              precision    recall  f1-score   support\n",
      "\n",
      "           0       0.92      0.87      0.89        38\n",
      "           1       0.94      0.96      0.95        76\n",
      "\n",
      "    accuracy                           0.93       114\n",
      "   macro avg       0.93      0.91      0.92       114\n",
      "weighted avg       0.93      0.93      0.93       114\n",
      "\n",
      "[[33  5]\n",
      " [ 3 73]]\n"
     ]
    }
   ],
   "source": [
    "logistic_model = LogisticRegression(max_iter=2700)\n",
    "logistic_model.fit(X_train, y_train)\n",
    "y_pred = logistic_model.predict(X_test)\n",
    "\n",
    "print(classification_report(y_test, y_pred))\n",
    "print(confusion_matrix(y_test, y_pred))"
   ]
  },
  {
   "cell_type": "markdown",
   "id": "dated-afternoon",
   "metadata": {},
   "source": [
    "### Project 2-3. 정리"
   ]
  },
  {
   "cell_type": "markdown",
   "id": "shared-sixth",
   "metadata": {},
   "source": [
    "* 30개의 특성을 가지는 569개의 유방암 데이터를 이용해 악성/양성 종양으로 분류하는 문제다.\n",
    "* 정확도상 가장 성능이 낮은 모델은 정확도가 0.9인 SGD Classifier 모델이고, 성능이 가장 좋은 모델은 0.96의 정확도를 보인 Random Forest이다.\n",
    "* 하지만 유방암 데이터는 병과 관련된 데이터이므로 단순한 정확도 개념이 아닌 FN과 관련된 Recall값이 중요한 요소다.\n",
    "* 모델 중 FN 관련 Recall 값이 가장 높은 모델은 Decision Tree가 0.89로 가장 높다. 즉, 악성 종양을 양성 종양으로 잘못 분류한 경우가 가장 적은 경우인 Decision Tree가 이 데이터를 분류하는데 가장 적합한 모델이라고 볼 수 있다."
   ]
  },
  {
   "cell_type": "markdown",
   "id": "qualified-volleyball",
   "metadata": {},
   "source": [
    "#### → 최종 모델은 Decision Tree모델이다."
   ]
  },
  {
   "cell_type": "code",
   "execution_count": null,
   "id": "trained-tomorrow",
   "metadata": {},
   "outputs": [],
   "source": []
  }
 ],
 "metadata": {
  "kernelspec": {
   "display_name": "Python 3",
   "language": "python",
   "name": "python3"
  },
  "language_info": {
   "codemirror_mode": {
    "name": "ipython",
    "version": 3
   },
   "file_extension": ".py",
   "mimetype": "text/x-python",
   "name": "python",
   "nbconvert_exporter": "python",
   "pygments_lexer": "ipython3",
   "version": "3.7.9"
  }
 },
 "nbformat": 4,
 "nbformat_minor": 5
}
