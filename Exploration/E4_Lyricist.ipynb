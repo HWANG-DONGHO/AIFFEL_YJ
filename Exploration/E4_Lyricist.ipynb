{
 "cells": [
  {
   "cell_type": "markdown",
   "id": "afraid-richmond",
   "metadata": {},
   "source": [
    "# 작사가 제일 쉬웠어요!"
   ]
  },
  {
   "cell_type": "markdown",
   "id": "stuck-fraud",
   "metadata": {},
   "source": [
    "NLP를 통해 멋진 가사를 만들어내는 작사가 모델을 만들어보자."
   ]
  },
  {
   "cell_type": "markdown",
   "id": "accessory-transcript",
   "metadata": {},
   "source": [
    "## 1. 필요한 모듈 import"
   ]
  },
  {
   "cell_type": "code",
   "execution_count": 2,
   "id": "peaceful-block",
   "metadata": {},
   "outputs": [],
   "source": [
    "import re\n",
    "import numpy as np\n",
    "import tensorflow as tf\n",
    "import glob\n",
    "import os\n",
    "import pandas as pd\n",
    "import matplotlib.pyplot as plt\n",
    "import seaborn as sns"
   ]
  },
  {
   "cell_type": "markdown",
   "id": "helpful-resistance",
   "metadata": {},
   "source": [
    "## 2. 데이터 로드 및 개수 확인"
   ]
  },
  {
   "cell_type": "code",
   "execution_count": 3,
   "id": "useful-parks",
   "metadata": {},
   "outputs": [
    {
     "name": "stdout",
     "output_type": "stream",
     "text": [
      "데이터 크기: 187088\n",
      "Examples:\n",
      " ['At first I was afraid', 'I was petrified', 'I kept thinking I could never live without you']\n"
     ]
    }
   ],
   "source": [
    "# 문장의 총 개수 구하기\n",
    "\n",
    "txt_file_path = os.getenv('HOME')+'/aiffel/lyricist/data/lyrics/*'\n",
    "\n",
    "txt_list = glob.glob(txt_file_path)\n",
    "\n",
    "raw_corpus = [] # 문장들이 담길 list\n",
    "\n",
    "# 여러개의 txt 파일을 모두 읽어서 raw_corpus 에 담습니다.\n",
    "for txt_file in txt_list:\n",
    "    with open(txt_file, \"r\") as f:\n",
    "        raw = f.read().splitlines()\n",
    "        raw_corpus.extend(raw)\n",
    "\n",
    "print(\"데이터 크기:\", len(raw_corpus))\n",
    "print(\"Examples:\\n\", raw_corpus[:3])"
   ]
  },
  {
   "cell_type": "markdown",
   "id": "capable-legislation",
   "metadata": {},
   "source": [
    "## 3. 데이터 전처리\n",
    "\n",
    "문장을 학습시키기 쉽게 불필요한 부분은 제거하고, 하나의 기준으로 문장을 정리한다.\n",
    "1. 소문자로 변환한 후 양쪽 공백을 지운다.\n",
    "2. 문장에 포함된 특수문자 양쪽에 공백 추가(split하기 위해)\n",
    "3. 문장 내의 2개 이상인 공백을 1개의 공백으로 변환한다.\n",
    "4. a-zA-Z?.!,¿가 아닌 모든 문자를 하나의 공백으로 바꾼다.\n",
    "5. 양쪽 공백을 지운다.\n",
    "6. 모든 전처리가 끝난 문장 앞뒤로 \\<start\\>와 \\<end\\>를 붙인다. (토큰화)\n",
    "    \n"
   ]
  },
  {
   "cell_type": "code",
   "execution_count": 4,
   "id": "enormous-network",
   "metadata": {},
   "outputs": [
    {
     "name": "stdout",
     "output_type": "stream",
     "text": [
      "<start> at first i was afraid <end>\n"
     ]
    }
   ],
   "source": [
    "def preprocess_sentence(sentence):\n",
    "    sentence = sentence.lower().strip() # 1\n",
    "    sentence = re.sub(r\"([?.!,¿])\", r\" \\1 \", sentence) # 2\n",
    "    # 문자열 앞에 r이 붙으면 해당 문자열이 구성된 그대로 문자열 반환 예를 들어 \\n 같은 경우에도 raw string으로 그대로 출력\n",
    "    # \\1은 재참조 메타 문자.\n",
    "    \n",
    "    sentence = re.sub(r'[\" \"]+', \" \", sentence) # 3\n",
    "    sentence = re.sub(r\"[^a-zA-Z?.!,¿]+\", \" \", sentence) # 4\n",
    "    sentence = sentence.strip() # 5\n",
    "    sentence = '<start> ' + sentence + ' <end>' # 6\n",
    "    return sentence\n",
    "\n",
    "# 이 문장이 어떻게 필터링되는지 확인해 보세요.\n",
    "print(preprocess_sentence(raw_corpus[0]))"
   ]
  },
  {
   "cell_type": "markdown",
   "id": "surprising-fourth",
   "metadata": {},
   "source": [
    "* 길이가 0인 문장을 제거한다.\n",
    "* 지나치게 긴 문장은 다른 데이터들이 과도한 Padding을 갖게 하므로 제거한다."
   ]
  },
  {
   "cell_type": "code",
   "execution_count": 5,
   "id": "fundamental-thesaurus",
   "metadata": {},
   "outputs": [
    {
     "name": "stdout",
     "output_type": "stream",
     "text": [
      "156227\n"
     ]
    },
    {
     "data": {
      "text/plain": [
       "['<start> at first i was afraid <end>',\n",
       " '<start> i was petrified <end>',\n",
       " '<start> i kept thinking i could never live without you <end>',\n",
       " '<start> by my side but then i spent so many nights <end>',\n",
       " '<start> just thinking how you ve done me wrong <end>',\n",
       " '<start> i grew strong <end>',\n",
       " '<start> i learned how to get along and so you re back <end>',\n",
       " '<start> from outer space <end>',\n",
       " '<start> i just walked in to find you <end>',\n",
       " '<start> i would have made you leave your key <end>',\n",
       " '<start> if i had known for just one second <end>',\n",
       " '<start> you d be back to bother me well now go , <end>',\n",
       " '<start> walk out the door <end>',\n",
       " '<start> just turn around <end>',\n",
       " '<start> now , you re not welcome anymore weren t you the one <end>',\n",
       " '<start> who tried to break me with desire ? <end>',\n",
       " '<start> did you think i d crumble ? <end>',\n",
       " '<start> i will survive <end>',\n",
       " '<start> yeah <end>',\n",
       " '<start> i ve got all my life to live <end>',\n",
       " '<start> i ve got all my love to give <end>',\n",
       " '<start> i will survive , i will survive <end>',\n",
       " '<start> yeah , yeah <end>',\n",
       " '<start> it took all the strength i had <end>',\n",
       " '<start> just not to fall apart i m trying hard to mend the pieces <end>',\n",
       " '<start> of my broken heart <end>',\n",
       " '<start> and i spent oh so many nights <end>',\n",
       " '<start> just feeling sorry for myself i used to cry , <end>',\n",
       " '<start> but now i hold my head up high <end>',\n",
       " '<start> and you see me <end>']"
      ]
     },
     "execution_count": 5,
     "metadata": {},
     "output_type": "execute_result"
    }
   ],
   "source": [
    "# 여기에 정제된 문장을 모을 리스트 생성\n",
    "corpus = []\n",
    "\n",
    "for sentence in raw_corpus:\n",
    "    # 우리가 원하지 않는 문장은 건너뛴다.\n",
    "    # 길이가 0이거나 단어의 개수가 15개 이상인 문장을 건너뛴다.\n",
    "    # <start>와 <end>를 제외해야 하므로 13개 \n",
    "    if len(sentence) == 0 : continue\n",
    "    \n",
    "    # 정제를 하고 담는다.\n",
    "    preprocessed_sentence = preprocess_sentence(sentence)\n",
    "    if len(preprocessed_sentence.split()) > 15 : continue\n",
    "    \n",
    "    corpus.append(preprocessed_sentence)\n",
    "    \n",
    "len_list = []\n",
    "for s in corpus:\n",
    "    len_list.append(len(s.split()))\n",
    "    \n",
    "# 정제된 결과를 30개 확인\n",
    "print(len(corpus))\n",
    "\n",
    "corpus[:30]"
   ]
  },
  {
   "cell_type": "markdown",
   "id": "parental-functionality",
   "metadata": {},
   "source": [
    "* 그래프로 전처리 확인"
   ]
  },
  {
   "cell_type": "code",
   "execution_count": 6,
   "id": "stable-vision",
   "metadata": {},
   "outputs": [
    {
     "data": {
      "image/png": "[encoded data removed]",
      "text/plain": [
       "<Figure size 1440x360 with 1 Axes>"
      ]
     },
     "metadata": {
      "needs_background": "light"
     },
     "output_type": "display_data"
    }
   ],
   "source": [
    "import collections\n",
    "\n",
    "# collections.Counter로 len_list의 토큰 개수를 개수 별 딕셔너리 형태로 반환한다.\n",
    "len_count = collections.Counter(len_list)\n",
    "\n",
    "se = pd.Series(len_count)\n",
    "se.sort_index(inplace=True)\n",
    "\n",
    "plt.figure(figsize=(20,5))\n",
    "\n",
    "sns.barplot(x=se.index, y=se.values)\n",
    "plt.title('Histogram of Sentences Length', fontsize=15)\n",
    "plt.xlabel('Length of Sentences', fontsize=13)\n",
    "plt.ylabel('Count', fontsize=13)\n",
    "plt.show()"
   ]
  },
  {
   "cell_type": "markdown",
   "id": "piano-junction",
   "metadata": {},
   "source": [
    "## 4. 데이터 토큰화\n",
    "수학적 연산을 위해 문자 데이터를 Tensor로 변환, tf.tokenizer()를 통해 편리하게 변환할 수 있다.\n",
    "\n",
    "* 각 문자에 대응되는 숫자 사전을 만든다. (12000개)\n",
    "* 사전에 포함되지 않은 단어는 ukn으로 대체한다.\n",
    "* 문자를 단어별로 split한 후 각 문자에 대응하는 숫자로 변환한다."
   ]
  },
  {
   "cell_type": "code",
   "execution_count": 7,
   "id": "lightweight-reflection",
   "metadata": {},
   "outputs": [
    {
     "name": "stdout",
     "output_type": "stream",
     "text": [
      "[[   2   70  247 ...    0    0    0]\n",
      " [   2    4   53 ...    0    0    0]\n",
      " [   2    4 1066 ...    0    0    0]\n",
      " ...\n",
      " [   2    8    4 ...    0    0    0]\n",
      " [   2   44   17 ...    0    0    0]\n",
      " [   2    6  174 ...    0    0    0]] <keras_preprocessing.text.Tokenizer object at 0x7f56c2878050>\n"
     ]
    }
   ],
   "source": [
    "def tokenize(corpus):\n",
    "    # 12000단어를 기억할 수 있는 tokenizer\n",
    "    # preprocessing을 통해 데이터 전처리를 완료했으므로 filter는 필요 없다.\n",
    "    # 12000단어에 포함되지 못한 단어는 '<unk>'로 대체한다.\n",
    "    tokenizer = tf.keras.preprocessing.text.Tokenizer(\n",
    "        num_words=12000, \n",
    "        filters=' ',\n",
    "        oov_token=\"<unk>\"\n",
    "    )\n",
    "    # corpus를 이용해 tokenizer 내부의 단어장을 완성한다.\n",
    "    tokenizer.fit_on_texts(corpus)\n",
    "    # 준비한 tokenizer를 이용해 corpus를 Tensor로 변환한다.\n",
    "    tensor = tokenizer.texts_to_sequences(corpus)   \n",
    "    # 입력 데이터의 시퀀스 길이를 일정하게 맞춰준다.\n",
    "    # 만약 시퀀스가 짧다면 문장 뒤에 패딩을 붙여 길이를 맞춰준다.\n",
    "    tensor = tf.keras.preprocessing.sequence.pad_sequences(tensor, padding='post', maxlen=15)  \n",
    "    \n",
    "    print(tensor,tokenizer)\n",
    "    return tensor, tokenizer\n",
    "\n",
    "tensor, tokenizer = tokenize(corpus)"
   ]
  },
  {
   "cell_type": "code",
   "execution_count": 8,
   "id": "institutional-brother",
   "metadata": {},
   "outputs": [
    {
     "name": "stdout",
     "output_type": "stream",
     "text": [
      "1 : <unk>\n",
      "2 : <start>\n",
      "3 : <end>\n",
      "4 : i\n",
      "5 : ,\n",
      "6 : the\n",
      "7 : you\n",
      "8 : and\n",
      "9 : a\n",
      "10 : to\n"
     ]
    }
   ],
   "source": [
    "#단어사전 확인\n",
    "for idx in tokenizer.index_word:\n",
    "    print(idx, \":\", tokenizer.index_word[idx])\n",
    "    \n",
    "    if idx >= 10: break"
   ]
  },
  {
   "cell_type": "markdown",
   "id": "radio-festival",
   "metadata": {},
   "source": [
    "## 5. 데이터셋 생성\n",
    "\n",
    "Tensor에서 모델을 학습할 때 필요한 입력값(source)과 출력값(target)을 나눠 정리한다.\n",
    "\n",
    "* 입력값(source) : \\<start\\>를 포함하고 맨 뒤 값인 \\<end\\>를 제외한 문장, 그러나 마지막 토큰은 \\<end\\>가 아닌 padding일 확률이 매우 높다.\n",
    "* 출력값(target) : \\<start\\> 다음 단어부터 \\<end\\> 까지의 문장"
   ]
  },
  {
   "cell_type": "code",
   "execution_count": 9,
   "id": "charitable-workstation",
   "metadata": {},
   "outputs": [
    {
     "name": "stdout",
     "output_type": "stream",
     "text": [
      "[  2  70 247   4  53 708   3   0   0   0   0   0   0   0]\n",
      "[ 70 247   4  53 708   3   0   0   0   0   0   0   0   0]\n"
     ]
    },
    {
     "data": {
      "text/plain": [
       "(156227, 14)"
      ]
     },
     "execution_count": 9,
     "metadata": {},
     "output_type": "execute_result"
    }
   ],
   "source": [
    "#source, target 문장 생성\n",
    "src_input = tensor[:, :-1]\n",
    "tgt_input = tensor[:, 1:]\n",
    "\n",
    "print(src_input[0])\n",
    "print(tgt_input[0])\n",
    "src_input.shape"
   ]
  },
  {
   "cell_type": "markdown",
   "id": "compact-bridal",
   "metadata": {},
   "source": [
    "* Train set과 Validation set 8 : 2로 분리"
   ]
  },
  {
   "cell_type": "code",
   "execution_count": 10,
   "id": "unlikely-cookie",
   "metadata": {},
   "outputs": [
    {
     "name": "stdout",
     "output_type": "stream",
     "text": [
      "Source Train: (124981, 14)\n",
      "Target Train: (124981, 14)\n",
      "Source Validation: (31246, 14)\n",
      "Target Validation: (31246, 14)\n"
     ]
    }
   ],
   "source": [
    "from sklearn.model_selection import train_test_split\n",
    "\n",
    "enc_train, enc_val, dec_train, dec_val = train_test_split(src_input, tgt_input, test_size=0.2)\n",
    "\n",
    "print(\"Source Train:\", enc_train.shape)\n",
    "print(\"Target Train:\", dec_train.shape)\n",
    "print(\"Source Validation:\", enc_val.shape)\n",
    "print(\"Target Validation:\", dec_val.shape)"
   ]
  },
  {
   "cell_type": "markdown",
   "id": "disturbed-candy",
   "metadata": {},
   "source": [
    "## 6. 모델 설계\n",
    "#### 일반 LSTM 모델\n",
    "\n",
    "가사 데이터를 통해 학습할 모델 정의\n",
    "\n",
    "* Embedding Layer : Word2Vec 역할을 하는 Layer, 단어를 저차원의 실수형 밀집 벡터(Dense vector)로 만든다. \n",
    "* LSTM(Long Short-Term Memory) Layer : 은닉층의 메모리 셀에 입력 게이트, 망각 게이트, 출력 게이트를 추가해 불필요한 메모리를 지우고, 필요한 메모리를 저장한다.\n",
    "* Dense Layer : Fully-Connected Layer로 출력값을 결정짓는다.\n",
    "\n",
    "**Embedding(number of sample, embedding_size, input_length)**    \n",
    "number of sample : 단어 집합의 크기. 즉, 총 단어의 개수  \n",
    "embedding_size : 임베딩 벡터의 출력 차원. 결과로서 나오는 임베딩 벡터의 크기  \n",
    "input_length : 입력 시퀀스의 길이  "
   ]
  },
  {
   "cell_type": "code",
   "execution_count": 11,
   "id": "recognized-qualification",
   "metadata": {},
   "outputs": [
    {
     "name": "stdout",
     "output_type": "stream",
     "text": [
      "Model: \"sequential\"\n",
      "_________________________________________________________________\n",
      "Layer (type)                 Output Shape              Param #   \n",
      "=================================================================\n",
      "embedding (Embedding)        (None, None, 256)         3072256   \n",
      "_________________________________________________________________\n",
      "lstm (LSTM)                  (None, None, 1024)        5246976   \n",
      "_________________________________________________________________\n",
      "lstm_1 (LSTM)                (None, None, 1024)        8392704   \n",
      "_________________________________________________________________\n",
      "dense (Dense)                (None, None, 12001)       12301025  \n",
      "=================================================================\n",
      "Total params: 29,012,961\n",
      "Trainable params: 29,012,961\n",
      "Non-trainable params: 0\n",
      "_________________________________________________________________\n"
     ]
    }
   ],
   "source": [
    "vocab_size = tokenizer.num_words + 1  # 단어사전의 단어 개수 + 0:<pad>\n",
    "embedding_size = 256\n",
    "hidden_size = 1024\n",
    "\n",
    "model = tf.keras.Sequential()\n",
    "model.add(tf.keras.layers.Embedding(vocab_size, embedding_size))\n",
    "model.add(tf.keras.layers.LSTM(hidden_size, return_sequences=True))\n",
    "model.add(tf.keras.layers.LSTM(hidden_size, return_sequences=True))\n",
    "model.add(tf.keras.layers.Dense(vocab_size))\n",
    "\n",
    "model.summary()"
   ]
  },
  {
   "cell_type": "markdown",
   "id": "alleged-token",
   "metadata": {},
   "source": [
    "## 7. 모델 학습"
   ]
  },
  {
   "cell_type": "code",
   "execution_count": 12,
   "id": "stunning-colleague",
   "metadata": {},
   "outputs": [
    {
     "name": "stdout",
     "output_type": "stream",
     "text": [
      "Epoch 1/10\n",
      "3906/3906 [==============================] - 293s 74ms/step - loss: 3.3536\n",
      "Epoch 2/10\n",
      "3906/3906 [==============================] - 293s 75ms/step - loss: 2.6685\n",
      "Epoch 3/10\n",
      "3906/3906 [==============================] - 295s 75ms/step - loss: 2.3586\n",
      "Epoch 4/10\n",
      "3906/3906 [==============================] - 296s 76ms/step - loss: 2.0825\n",
      "Epoch 5/10\n",
      "3906/3906 [==============================] - 296s 76ms/step - loss: 1.8386\n",
      "Epoch 6/10\n",
      "3906/3906 [==============================] - 296s 76ms/step - loss: 1.6409\n",
      "Epoch 7/10\n",
      "3906/3906 [==============================] - 296s 76ms/step - loss: 1.4766\n",
      "Epoch 8/10\n",
      "3906/3906 [==============================] - 296s 76ms/step - loss: 1.3450\n",
      "Epoch 9/10\n",
      "3906/3906 [==============================] - 298s 76ms/step - loss: 1.2406\n",
      "Epoch 10/10\n",
      "3906/3906 [==============================] - 298s 76ms/step - loss: 1.1620\n"
     ]
    },
    {
     "data": {
      "text/plain": [
       "<tensorflow.python.keras.callbacks.History at 0x7f56b9fd7cd0>"
      ]
     },
     "execution_count": 12,
     "metadata": {},
     "output_type": "execute_result"
    }
   ],
   "source": [
    "optimizer = tf.keras.optimizers.Adam()\n",
    "loss = tf.keras.losses.SparseCategoricalCrossentropy(\n",
    "    from_logits=True,\n",
    "    reduction='none'\n",
    ")\n",
    "\n",
    "model.compile(loss=loss, optimizer=optimizer)\n",
    "model.fit(enc_train, dec_train, epochs=10)"
   ]
  },
  {
   "cell_type": "markdown",
   "id": "copyrighted-camcorder",
   "metadata": {},
   "source": [
    "## 8. 문장 생성하기\n",
    "위에서 학습한 모델을 통해 문장을 생성한다."
   ]
  },
  {
   "cell_type": "code",
   "execution_count": 17,
   "id": "narrow-prison",
   "metadata": {},
   "outputs": [],
   "source": [
    "# 문장 생성 함수\n",
    "def generate_text(model, tokenizer, init_sentence=\"<start>\", max_len=20):\n",
    "    # 테스트를 위해서 입력받은 init_sentence도 일단 텐서로 변환한다.\n",
    "    test_input = tokenizer.texts_to_sequences([init_sentence])\n",
    "    test_tensor = tf.convert_to_tensor(test_input, dtype=tf.int64)\n",
    "    end_token = tokenizer.word_index[\"<end>\"]\n",
    "\n",
    "    # 텍스트를 실제로 생성할때는 루프를 돌면서 단어 하나씩 생성해야 한다. \n",
    "    while True:\n",
    "        predict = model(test_tensor)  # 입력받은 문장의 텐서를 입력한다. \n",
    "        predict_word = tf.argmax(tf.nn.softmax(predict, axis=-1), axis=-1)[:, -1]   # 우리 모델이 예측한 마지막 단어가 바로 새롭게 생성한 단어가 된다. \n",
    "\n",
    "        # 우리 모델이 새롭게 예측한 단어를 입력 문장의 뒤에 붙여 준다. \n",
    "        test_tensor = tf.concat([test_tensor, tf.expand_dims(predict_word, axis=0)], axis=-1)\n",
    "\n",
    "        # 우리 모델이 <end>를 예측했거나, max_len에 도달하지 않았다면  while 루프를 또 돌면서 다음 단어를 예측해야 한다..\n",
    "        if predict_word.numpy()[0] == end_token: break\n",
    "        if test_tensor.shape[1] >= max_len: break\n",
    "\n",
    "    generated = \"\"\n",
    "    # 생성된 tensor 안에 있는 word index를 tokenizer.index_word 사전을 통해 실제 단어로 하나씩 변환한다. \n",
    "    for word_index in test_tensor[0].numpy():\n",
    "        generated += tokenizer.index_word[word_index] + \" \"\n",
    "\n",
    "    return generated   # 이것이 최종적으로 모델이 생성한 자연어 문장입니다."
   ]
  },
  {
   "cell_type": "markdown",
   "id": "mathematical-beginning",
   "metadata": {},
   "source": [
    "#### 'i love' 입력"
   ]
  },
  {
   "cell_type": "code",
   "execution_count": 18,
   "id": "solved-brown",
   "metadata": {},
   "outputs": [
    {
     "data": {
      "text/plain": [
       "'<start> i love you so , <end> '"
      ]
     },
     "execution_count": 18,
     "metadata": {},
     "output_type": "execute_result"
    }
   ],
   "source": [
    "# 문장 생성 함수 실행하여 모델에게 작문 시켜보기\n",
    "generate_text(model, tokenizer, init_sentence=\"<start> i love\", max_len=20)"
   ]
  },
  {
   "cell_type": "markdown",
   "id": "internal-request",
   "metadata": {},
   "source": [
    "#### 'when i was' 입력"
   ]
  },
  {
   "cell_type": "code",
   "execution_count": 20,
   "id": "caring-receptor",
   "metadata": {},
   "outputs": [
    {
     "data": {
      "text/plain": [
       "'<start> when i was shot dat nixga like i started to <end> '"
      ]
     },
     "execution_count": 20,
     "metadata": {},
     "output_type": "execute_result"
    }
   ],
   "source": [
    "generate_text(model, tokenizer, init_sentence=\"<start> when i was\", max_len=20)"
   ]
  },
  {
   "cell_type": "markdown",
   "id": "plain-auckland",
   "metadata": {},
   "source": [
    "#### 'what would you' 입력"
   ]
  },
  {
   "cell_type": "code",
   "execution_count": 21,
   "id": "liked-collaboration",
   "metadata": {},
   "outputs": [
    {
     "data": {
      "text/plain": [
       "'<start> what would you do ? <end> '"
      ]
     },
     "execution_count": 21,
     "metadata": {},
     "output_type": "execute_result"
    }
   ],
   "source": [
    "generate_text(model, tokenizer, init_sentence=\"<start> what would you\", max_len=20)"
   ]
  },
  {
   "cell_type": "markdown",
   "id": "foreign-perception",
   "metadata": {},
   "source": [
    "#### 'he was a' 입력"
   ]
  },
  {
   "cell_type": "code",
   "execution_count": 22,
   "id": "functioning-vienna",
   "metadata": {},
   "outputs": [
    {
     "data": {
      "text/plain": [
       "'<start> he was a very much <end> '"
      ]
     },
     "execution_count": 22,
     "metadata": {},
     "output_type": "execute_result"
    }
   ],
   "source": [
    "generate_text(model, tokenizer, init_sentence=\"<start> he was a\", max_len=20)"
   ]
  },
  {
   "cell_type": "markdown",
   "id": "sharing-marketing",
   "metadata": {},
   "source": [
    "#### 'happy' 입력"
   ]
  },
  {
   "cell_type": "code",
   "execution_count": 23,
   "id": "incoming-contract",
   "metadata": {},
   "outputs": [
    {
     "data": {
      "text/plain": [
       "'<start> happy birthday , happy birthday , happy birthday woo , shake ! <end> '"
      ]
     },
     "execution_count": 23,
     "metadata": {},
     "output_type": "execute_result"
    }
   ],
   "source": [
    "generate_text(model, tokenizer, init_sentence=\"<start> happy\", max_len=20)"
   ]
  },
  {
   "cell_type": "markdown",
   "id": "anticipated-motivation",
   "metadata": {},
   "source": [
    "#### 'i am' 입력"
   ]
  },
  {
   "cell_type": "code",
   "execution_count": 24,
   "id": "suspended-luxury",
   "metadata": {},
   "outputs": [
    {
     "data": {
      "text/plain": [
       "'<start> i am a god <end> '"
      ]
     },
     "execution_count": 24,
     "metadata": {},
     "output_type": "execute_result"
    }
   ],
   "source": [
    "generate_text(model, tokenizer, init_sentence=\"<start> i am\", max_len=20)"
   ]
  },
  {
   "cell_type": "markdown",
   "id": "substantial-prisoner",
   "metadata": {},
   "source": [
    "#### 'i m' 입력"
   ]
  },
  {
   "cell_type": "code",
   "execution_count": 26,
   "id": "diagnostic-retail",
   "metadata": {},
   "outputs": [
    {
     "data": {
      "text/plain": [
       "'<start> i m the one <end> '"
      ]
     },
     "execution_count": 26,
     "metadata": {},
     "output_type": "execute_result"
    }
   ],
   "source": [
    "generate_text(model, tokenizer, init_sentence=\"<start> i m\", max_len=20)"
   ]
  },
  {
   "cell_type": "markdown",
   "id": "demographic-marks",
   "metadata": {},
   "source": [
    "## 결론 및 고찰\n",
    "* 학습하는데 많은 시간이 소요되었지만 loss 1.16정도로 낮은 loss를 얻을 수 있었다.\n",
    "* 생성한 문장 중 'when i was' 로 시작하는 문장은 의미를 알 수 없는 문장을 생성해냈다. 해당 문장으로 시작하는 데이터의 경우 학습 데이터가 부족하다면 의미를 알 수 없는 문장을 생성해 낼 수도 있다는 것을 알 수 있었다.\n",
    "* 'i am'과 'i m'이 다른 문장을 생성하는 것을 볼 때 축소된 단어는 다른 단어로 인식하고 있으며, 같은 단어로 인식하게 만들 수 있으면 더 좋은 성능을 낼 수 있을 것이라고 생각한다.\n",
    "* 결론적으로 아주 만족스러운 모델이 만들어졌다고는 생각되지 않는다. 하지만 전처리 과정에서 각 단어들의 특성을 조금 더 반영하고, 더 많은 데이터를 확보해 학습한다면 정말 좋은 가사들을 많이 만들어 낼 수 있을 것 같다."
   ]
  },
  {
   "cell_type": "code",
   "execution_count": null,
   "id": "fleet-phoenix",
   "metadata": {},
   "outputs": [],
   "source": []
  }
 ],
 "metadata": {
  "kernelspec": {
   "display_name": "Python 3",
   "language": "python",
   "name": "python3"
  },
  "language_info": {
   "codemirror_mode": {
    "name": "ipython",
    "version": 3
   },
   "file_extension": ".py",
   "mimetype": "text/x-python",
   "name": "python",
   "nbconvert_exporter": "python",
   "pygments_lexer": "ipython3",
   "version": "3.7.9"
  }
 },
 "nbformat": 4,
 "nbformat_minor": 5
}
