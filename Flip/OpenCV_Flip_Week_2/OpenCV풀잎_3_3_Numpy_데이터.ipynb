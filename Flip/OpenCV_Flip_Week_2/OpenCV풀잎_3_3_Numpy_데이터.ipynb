{
  "nbformat": 4,
  "nbformat_minor": 0,
  "metadata": {
    "colab": {
      "name": "OpenCV풀잎 - 3.3 Numpy 데이터.ipynb",
      "provenance": [],
      "collapsed_sections": []
    },
    "kernelspec": {
      "name": "python3",
      "display_name": "Python 3"
    },
    "language_info": {
      "name": "python"
    }
  },
  "cells": [
    {
      "cell_type": "markdown",
      "metadata": {
        "id": "_BXFk7ATkMJf"
      },
      "source": [
        "# Numpy 데이터\n",
        "## 1. Numpy 행렬\n",
        "* 파이썬에는 행렬을 표현하는 기본 자료형이 존재하지 않는다.\n",
        "* 벡터 행렬 계산을 효율적으로 처리하기 위해 Numpy 라이브러리를 사용한다.\n",
        "* 모든  Python OpenCV 배열 구조는 Numpy로 표현된다.\n",
        "* 이 때, Numpy의 배열 클래스 중 ndarray를 사용하며 이 클래스는 다음과 같은 중요한 요소가 존재한다.\n",
        "  * 차원의 수 : 이미지의 너비, 높이, 채널 3개의 채널을 갖는다.\n",
        "  * 차원의 크기 : 이미지의 너비, 높이, 채널이 어떤 값을 갖는지를 의미한다.\n",
        "  * 데이터 형식 : int64와 같은 데이터 타입. 데이터의 폭을 설정할 수 있다."
      ]
    },
    {
      "cell_type": "code",
      "metadata": {
        "colab": {
          "base_uri": "https://localhost:8080/"
        },
        "id": "lOanmPMslybk",
        "outputId": "7af03c61-50b2-4216-d996-84f7db52a58f"
      },
      "source": [
        "# 예제 3.22 - Numpy 배열의 기본 요소\n",
        "\n",
        "import numpy as np\n",
        "\n",
        "array = np.array([[1,2,3],\n",
        "                  [4,5,6]])\n",
        "\n",
        "print(array.ndim)\n",
        "print(array.shape)\n",
        "print(array.dtype)"
      ],
      "execution_count": null,
      "outputs": [
        {
          "output_type": "stream",
          "name": "stdout",
          "text": [
            "2\n",
            "(2, 3)\n",
            "int64\n"
          ]
        }
      ]
    },
    {
      "cell_type": "markdown",
      "metadata": {
        "id": "y_juYoN_mOyb"
      },
      "source": [
        "## 2. ndarray클래스 - N차원 배열\n",
        "* 동일한 자료형을 가진 값들이 행렬 형태로 N차원 배열을 생성한다.\n",
        "* 스스로 자료형을 유추해서 자동으로 할당한다.\n",
        "* N차원 배열을 생성할 때 지정된 객체는 배열의 형태를 지니고 있어야 한다.\n",
        "* 파이썬 리스트나 튜플 또는 ndarray클래스 등을 중첩해서 배열을 생성할 수 있다.\n",
        "\n",
        "\n",
        "\n",
        "> array 함수 정의\n",
        "```python\n",
        "np.array(object, dtype=None, copy=True, order='K', subok=False, ndmin=0)\n",
        "```\n",
        "* object : object와 동일한 배열 구조로 Numpy 배열을 정의한다.\n",
        "* dtype : 배열의 자료형\n",
        "* copy : 객체를 복사해서 생성할지를 선택한다.False로 지정 시 자료형이나 순서 등을 고려해서 객체를 복사할지 선택한다.\n",
        "* order : 배열의 메모리 레이아웃을 설정한다. 크게 C 스타일과 Fortran 스타일의 메모리 레이아웃이 있다.\n",
        "  * C스타일 : [i][j][k] 형태로 색인이 구성되어 있을 때, k부터 순차적으로 증가, k값이 최댓값에 도달하면 그 앞의 색인이 증가하는 구조, 행을 먼저 순차적으로 저장\n",
        "  * Fortran스타일 : C와 반대로 i값부터 증가하고, 최대값에 도달하면 그 다음 색인이 증가하는 구조, 열을 먼저 순차적으로 저장\n",
        "* subok : 하위 클래스에서 배열 생성 여부를 나타낸다. True일 경우 하위 클래스에 전달되고, False일 경우 반환된 배열은 ndarray클래스가 된다.\n",
        "* ndmin : 반환된 배열의 최소 차원 수를 나타낸다. 예를 들어 입력된 객체가 1차원 배열일 때, ndmin을 3으로 설정하면 3차원 배열로 생성된다. \n",
        "  * [1,2,3] 입력 시 -> [[[1,2,3]]]"
      ]
    },
    {
      "cell_type": "code",
      "metadata": {
        "colab": {
          "base_uri": "https://localhost:8080/"
        },
        "id": "IW3y9xZol-vO",
        "outputId": "b0c24cea-e876-4100-cf32-9b7483bab216"
      },
      "source": [
        "# 예제 3.23 - Numpy 배열 생성\n",
        "\n",
        "import numpy as np\n",
        "\n",
        "array1 = np.array([[1,2,3],[4,5,6]])\n",
        "array2 = np.array([1,2,3], dtype=complex, ndmin=3)\n",
        "array3 = np.array(array1, copy=False)\n",
        "array4 = np.array(np.mat('1 2; 3 4'), subok=True)\n",
        "\n",
        "array1[0] = [4,5,6]\n",
        "\n",
        "print(array1)\n",
        "print(array2)\n",
        "print(array3)\n",
        "print(type(array4))"
      ],
      "execution_count": 9,
      "outputs": [
        {
          "output_type": "stream",
          "name": "stdout",
          "text": [
            "[[4 5 6]\n",
            " [4 5 6]]\n",
            "[[[1.+0.j 2.+0.j 3.+0.j]]]\n",
            "[[4 5 6]\n",
            " [4 5 6]]\n",
            "<class 'numpy.matrix'>\n"
          ]
        }
      ]
    },
    {
      "cell_type": "code",
      "metadata": {
        "colab": {
          "base_uri": "https://localhost:8080/"
        },
        "id": "oXGzHcNeqF9k",
        "outputId": "30efd89b-f703-4daf-f886-400e0397f817"
      },
      "source": [
        "# 표 3.21 - Numpy 배열 생성 함수\n",
        "\n",
        "array1 = np.eye(3,3)        # nxm 크기의 k만큼 오프셋 된 단위행렬 생성\n",
        "array2 = np.ones([1,3,3])   # 지정된 배열 크기에 1로 채워진 배열 생성\n",
        "array3 = np.zeros([1,3,3])  # 지정된 배열 크기에 0으로 채워진 배열 생성\n",
        "\n",
        "print(array1)\n",
        "print(array2)\n",
        "print(array3)\n"
      ],
      "execution_count": 17,
      "outputs": [
        {
          "output_type": "stream",
          "name": "stdout",
          "text": [
            "[[1. 0. 0.]\n",
            " [0. 1. 0.]\n",
            " [0. 0. 1.]]\n",
            "[[[1. 1. 1.]\n",
            "  [1. 1. 1.]\n",
            "  [1. 1. 1.]]]\n",
            "[[[0. 0. 0.]\n",
            "  [0. 0. 0.]\n",
            "  [0. 0. 0.]]]\n"
          ]
        }
      ]
    },
    {
      "cell_type": "markdown",
      "metadata": {
        "id": "HtXlcTcorOPX"
      },
      "source": [
        "## 3. 배열의 개별 단위 요소에 접근하기\n",
        "* 파이썬의 리스트나 튜플의 자료형을 참조하는 방식과 동일하다.\n",
        "* ndarray나 앞으로 사용할 matrix 클래스는 Mutable 객체\n",
        "* 단순히 새로운 ndarray 변수에 객체를 덮어씌울 경우 원본을 참조해 얕은복사가 이뤄진다. -> 비추천\n",
        "* copy 매개변수와 같이 깊은 복사로 객체를 복제하는 것을 추천한다."
      ]
    },
    {
      "cell_type": "code",
      "metadata": {
        "colab": {
          "base_uri": "https://localhost:8080/"
        },
        "id": "ZRrqMT9vqZOa",
        "outputId": "e7d8bdd2-ef05-4e68-fb21-fff5d62c5b80"
      },
      "source": [
        "# 예제 3.24 - 배열의 개별 단위 요소에 접근하기\n",
        "\n",
        "import numpy as np\n",
        "\n",
        "array1 = np.array([1,2,3])      # 1차원 배열\n",
        "array2 = np.array([[1,2],       # 2차원 배열\n",
        "                   [3,4]])\n",
        "array3 = np.array([[[1,2,],     # 3차원 배열\n",
        "                    [3,4]],\n",
        "                    [[5,6],\n",
        "                    [7,8]]])\n",
        "\n",
        "# 다음과 같이 대괄호를 사용해 배열[페이지][행][열] 형태로 요소에 접근할 수 있다.\n",
        "print(array1[-1])\n",
        "print(array2[0][1])\n",
        "print(array3[0][1][1])"
      ],
      "execution_count": null,
      "outputs": [
        {
          "output_type": "stream",
          "name": "stdout",
          "text": [
            "3\n",
            "2\n",
            "4\n"
          ]
        }
      ]
    },
    {
      "cell_type": "markdown",
      "metadata": {
        "id": "qbH50NaeseAb"
      },
      "source": [
        "## 4. 배열의 블록 단위 요소에 접근하기\n",
        "* 앞서 살펴본 개별 단위 요소에 접근하는 방법 이외에도 블록단위 요소에 접근해야 할 때가 있다."
      ]
    },
    {
      "cell_type": "code",
      "metadata": {
        "colab": {
          "base_uri": "https://localhost:8080/"
        },
        "id": "qU1a1i5ksEI8",
        "outputId": "41d0da58-57a2-4fc7-eb91-8ac369b71546"
      },
      "source": [
        "# 예제 3.25 - 배열의 블록 단위 요소에 접근하기(1)\n",
        "\n",
        "import numpy as np\n",
        "\n",
        "array = np.array([[[1,2],\n",
        "                   [3,4]],\n",
        "                  [[5,6],\n",
        "                   [7,8]]])\n",
        "\n",
        "# array[0]과 같이 블록 단위 요소에 접근해 그에 해당하는 [[1,2],[3,4]]에 대해 원하는 연산을 수행하고, 연산량을 줄일 수 있다.\n",
        "for i in array[0]:\n",
        "  for j in i:\n",
        "    if j % 2 == 0:\n",
        "      print(j)"
      ],
      "execution_count": null,
      "outputs": [
        {
          "output_type": "stream",
          "name": "stdout",
          "text": [
            "2\n",
            "4\n"
          ]
        }
      ]
    },
    {
      "cell_type": "code",
      "metadata": {
        "colab": {
          "base_uri": "https://localhost:8080/"
        },
        "id": "9jHeXfNis5kk",
        "outputId": "b9d7b9bc-1f0d-44fc-cf4c-ab96d610a5c2"
      },
      "source": [
        "# 예제 3.26 - 배열의 블록 단위 요소에 접근하기(2)\n",
        "\n",
        "import numpy as np\n",
        "\n",
        "array = np.array([[1,2,3,4,5],\n",
        "                  [6,7,8,9,10],\n",
        "                  [11,12,13,14,15],\n",
        "                  [16,17,18,19,20]])\n",
        "\n",
        "# Numpy 배열은 슬라이싱도 사용할 수 있다!\n",
        "print(array[1:3])\n",
        "print(array[::2])\n",
        "print(array[2:, 1::2])"
      ],
      "execution_count": null,
      "outputs": [
        {
          "output_type": "stream",
          "name": "stdout",
          "text": [
            "[[ 6  7  8  9 10]\n",
            " [11 12 13 14 15]]\n",
            "[[ 1  2  3  4  5]\n",
            " [11 12 13 14 15]]\n",
            "[[12 14]\n",
            " [17 19]]\n"
          ]
        }
      ]
    },
    {
      "cell_type": "markdown",
      "metadata": {
        "id": "emKPUbekuvCC"
      },
      "source": [
        "## 5. 배열 차원 변형\n",
        "* N차원으로 초기화된 배열의 데이터를 변경하지 않고 새로운 차원의 배열을 생성할 수 있다.\n",
        "* 새로운 형태의 배열은 원본 배열의 모양과 호환돼야 한다. = 원래 데이터의 총 길이의 곱과 동일해야 한다.\n",
        "* 예를 들어 원본 배열의 크기가 3x4라면 새롭게 변경된 배열의 크기는 12x1, 2x6, 2x2x3 등으로 총 개수가 동일해야 한다.\n",
        "* 배열의 차원을 변경하려면 reshape() 함수를 사용한다."
      ]
    },
    {
      "cell_type": "code",
      "metadata": {
        "colab": {
          "base_uri": "https://localhost:8080/"
        },
        "id": "pjOTd1UWuf_M",
        "outputId": "9df979fc-a52d-48ea-e13c-ec4eaf0076e5"
      },
      "source": [
        "# 예제 3.27 - 배열의 차원 변형\n",
        "\n",
        "import numpy as np\n",
        "\n",
        "array = np.arange(12)         # [0, 1, 2, 3, 4, 5, 6, 7, 8, 9, 10, 11]\n",
        "\n",
        "reshape1 = array.reshape(2,3,2)                   # 2페이지 3행 2열의 형태로 변형\n",
        "reshape2 = np.reshape(array, (2,-1), order='F')   # 2행 6열의 형태로 변형하며, 배열의 메모리 레이아웃을 Fortran 스타일의 메모리 순서로 설정(열 우선)\n",
        "                                                  # 요소에 -1을 지정할 경우 나머지 매개 변수 값들로 배열의 차원을 계산해 원본 배열의 모양과 호환되는 값이 할당된다 -> 자동으로 -1 자리에 알맞은 매개 변수를 지정해준다.\n",
        "\n",
        "print(reshape1)\n",
        "print(reshape2)"
      ],
      "execution_count": null,
      "outputs": [
        {
          "output_type": "stream",
          "name": "stdout",
          "text": [
            "[[[ 0  1]\n",
            "  [ 2  3]\n",
            "  [ 4  5]]\n",
            "\n",
            " [[ 6  7]\n",
            "  [ 8  9]\n",
            "  [10 11]]]\n",
            "[[ 0  2  4  6  8 10]\n",
            " [ 1  3  5  7  9 11]]\n"
          ]
        }
      ]
    },
    {
      "cell_type": "code",
      "metadata": {
        "colab": {
          "base_uri": "https://localhost:8080/"
        },
        "id": "GHNUn5N7vtaq",
        "outputId": "e7051b33-cf86-4e5c-997a-cebee710c9ea"
      },
      "source": [
        "# 예제 3.28 - 배열의 차원 확장\n",
        "\n",
        "import numpy as np\n",
        "\n",
        "array = np.arange(4)\n",
        "\n",
        "axis1 = array[np.newaxis]       # 행 부분에 지정할 경우 차원을 한 단계 추가\n",
        "axis2 = array[:, np.newaxis]    # 열 부분에 지정할 경우 요소를 분해한 뒤 차원을 한 단계 추가\n",
        "\n",
        "print(axis1)\n",
        "print(axis2)"
      ],
      "execution_count": null,
      "outputs": [
        {
          "output_type": "stream",
          "name": "stdout",
          "text": [
            "[[0 1 2 3]]\n",
            "[[0]\n",
            " [1]\n",
            " [2]\n",
            " [3]]\n"
          ]
        }
      ]
    },
    {
      "cell_type": "code",
      "metadata": {
        "colab": {
          "base_uri": "https://localhost:8080/"
        },
        "id": "X7I1LgE0w02z",
        "outputId": "79506587-74a5-4b4d-ba0d-bbd56c69fa5b"
      },
      "source": [
        "# 예제 3.29 - 배열의 차원 축소\n",
        "\n",
        "import numpy as np\n",
        "\n",
        "array = np.arange(12).reshape(3,-1)       # [[0,1,2,3],[4,5,6,7],[8,9,10,11]]\n",
        "flat1 = array.flatten(order='F')          # Fortran 스타일로 반환한 결과\n",
        "flat2 = array.ravel()\n",
        "\n",
        "print(flat1)\n",
        "print(flat2)"
      ],
      "execution_count": null,
      "outputs": [
        {
          "output_type": "stream",
          "name": "stdout",
          "text": [
            "[ 0  4  8  1  5  9  2  6 10  3  7 11]\n",
            "[ 0  1  2  3  4  5  6  7  8  9 10 11]\n"
          ]
        }
      ]
    },
    {
      "cell_type": "markdown",
      "metadata": {
        "id": "Kw8teM_9xw4t"
      },
      "source": [
        "## 6. 배열 병합 및 분리\n",
        "* 여러 배열을 병합한다면 새로운 축을 따라 배열을 연결한다.\n",
        "* 배열을 병합할 때 입력 배열의 형태가 동일해야 한다. = 페이지, 행, 열의 모든 모양이 같아야 한다.\n",
        "* stack() 함수를 사용하면 서로 다른 배열을 결합할 수 있다. 이 때, axis 매개 변수를 사용해 새로운 축을 설정한다.\n",
        "* axis=0 을 지정하면 첫 번째 차원을 기준으로 삽입되며, axis=-1을 지정하면 마지막 번쨰 차원을 기준으로 삽입된다.\n",
        "* 축은 이어 붙일 차원의 범위를 넘어갈 수 없다."
      ]
    },
    {
      "cell_type": "code",
      "metadata": {
        "colab": {
          "base_uri": "https://localhost:8080/"
        },
        "id": "Ya9D7Mb6xUzC",
        "outputId": "076b8c1d-4a02-4ed3-caa4-20b8757fef8b"
      },
      "source": [
        "# 예제 3.30 - 배열의 병합\n",
        "\n",
        "import numpy as np\n",
        "\n",
        "array1 = np.arange(6).reshape(2,3)\n",
        "array2 = np.arange(6,12).reshape(2,3)\n",
        "\n",
        "merge1 = np.stack([array1, array2], axis=0)\n",
        "merge2 = np.stack([array1, array2], axis=-1)    # axis=-1 에서 -1은 마지막 번째 차원을 나타낸다.\n",
        "\n",
        "print(merge1)\n",
        "print(merge2)"
      ],
      "execution_count": 14,
      "outputs": [
        {
          "output_type": "stream",
          "name": "stdout",
          "text": [
            "[[0 1 2]\n",
            " [3 4 5]]\n",
            "1\n",
            "[[ 6  7  8]\n",
            " [ 9 10 11]]\n",
            "1\n",
            "[[[ 0  1  2]\n",
            "  [ 3  4  5]]\n",
            "\n",
            " [[ 6  7  8]\n",
            "  [ 9 10 11]]]\n",
            "1\n",
            "[[[ 0  6]\n",
            "  [ 1  7]\n",
            "  [ 2  8]]\n",
            "\n",
            " [[ 3  9]\n",
            "  [ 4 10]\n",
            "  [ 5 11]]]\n"
          ]
        }
      ]
    },
    {
      "cell_type": "code",
      "metadata": {
        "colab": {
          "base_uri": "https://localhost:8080/"
        },
        "id": "i69QZ027ymFL",
        "outputId": "87984dc0-5e45-4965-aa25-1dfd4c0607ba"
      },
      "source": [
        "# 예제 3.30 - 배열의 분리\n",
        "\n",
        "import numpy as np\n",
        "\n",
        "array = np.arange(10).reshape(2,5)\n",
        "\n",
        "# 배열의 분리 방식을 구분하는 요소는 두 번째 매개변수의 데이터 형식\n",
        "detach1 = np.split(array, 2, axis=0)        # 입력 배열 array를 index의 개수만큼 axis 방향 기준으로 분리해 하위 배열로 나눈다.\n",
        "                                            # index의 허용 조건은 입력 배열의 axis에 해당하는 차원의 크기를 index로 나눴을 때 정수가 발생해야 한다.\n",
        "                                            # axis의 허용 조건은 입력 배열의 차원 수를 넘어갈 수 없다는 것이다.\n",
        "detach2 = np.split(array, [2,3], axis=1)    # 분할할 배열의 방식을 나타낸다.\n",
        "                                            # 정수로 이뤄진 1차원 배열을 인수로 사용하며, 예제의 경우 array[2:3]을 기준으로 나눈다.\n",
        "                                            # array[:2], array[2:3], array[3:] 형태로 삼분할된다.\n",
        "                                            # 가운데에 위치한 2와 7을 기준으로 좌측과 우측으로 나눠져 세개로 분리된다.\n",
        "\n",
        "print(detach1)\n",
        "print(detach2)"
      ],
      "execution_count": null,
      "outputs": [
        {
          "output_type": "stream",
          "name": "stdout",
          "text": [
            "[array([[0, 1, 2, 3, 4]]), array([[5, 6, 7, 8, 9]])]\n",
            "[array([[0, 1],\n",
            "       [5, 6]]), array([[2],\n",
            "       [7]]), array([[3, 4],\n",
            "       [8, 9]])]\n"
          ]
        }
      ]
    },
    {
      "cell_type": "markdown",
      "metadata": {
        "id": "aNpki6-w0_Rq"
      },
      "source": [
        "## 7. 배열 연산\n",
        "* 파이썬에 내장된 math 라이브러리는 실수에 대해서만 연산을 지원하고, 컨테이너 자료형에 대해서는 연산이 불가능해 반복문 등으로 배열 연산을 수행해야 했다.\n",
        "* Numpy 배열은 범용 함수(universal functions)를 제공해 브로드캐스팅(broadcasting) 및 형식 캐스팅(type casting) 기능을 ndarray 클래스로 지원하며 배열의 요소별 연산을 고속으로 수행하는 벡터화된 래퍼 함수(wrapper function)다.\n",
        "  * 브로드캐스팅(Broadcasting) : Numpy 배열에서 차원의 크기가 서로 다른 배열에서도 산술연산을 가능하게 하는 원리.  \n",
        "  다음은 브로드캐스팅 기능을 사용할 때 적용되는 허용 규칙이다.\n",
        "    1. 두 배열의 차원이 같지 않다면 차원이 더 낮은 배열이 차원이 더 높은 배열과 같은 차원의 배열로 인식된다. 예를 들어 (1,2) 배열과 (1,4,2) 배열을 연산한다면 (1,2) 배열은 (1,1,2) 배열로 간주한다.\n",
        "    2. 반환된 배열은 연산을 수행한 배열 중 차원의 수가 가장 큰 배열이 된다.\n",
        "    3. 연산에 사용된 배열과 반환된 배열의 차원의 크기가 같거나 1일 경우 브로드캐스팅이 가능하다.\n",
        "    4. 브로드캐스팅이 적용된 배열의 차원 크기는 연산에 사용된 배열들의 차원의 크기에 대한 최소 공배수 값으로 사용한다. 예를 들어 (6,2,1),(2,3)의 배열을 브로드캐스팅 한다면 각 요소의 최소 공배수 값을 반환해서 (6,2,3)이 된다. (2,3)은 가장 큰 차원 수로 변환되어 (1,2,3)이 된다. 이 값에 각 요소의 최소 공배수 값을 구한다면 lcm(6,1) = 6, lcm(2,2) = 2, lcm(1,3) = 3이 된다.\n",
        "  * 형식 캐스팅(Type casting) : 연산하려는 두 배열의 자료형을 비교해 표현 범위가 더 넓은 자료형을 선택하는 것."
      ]
    },
    {
      "cell_type": "code",
      "metadata": {
        "colab": {
          "base_uri": "https://localhost:8080/"
        },
        "id": "Qs-9XhkkznG4",
        "outputId": "3fd0cce3-9dbd-4d27-f13f-51a74a42e8eb"
      },
      "source": [
        "# 예제 3.32 - 배열의 브로드캐스팅과 형식 캐스팅\n",
        "\n",
        "import numpy as np\n",
        "\n",
        "array1 = np.array([1,2,3,4]).reshape(2,2)\n",
        "array2 = np.array([1.5, 2.5])\n",
        "\n",
        "add = array1 + array2\n",
        "\n",
        "print(add)"
      ],
      "execution_count": null,
      "outputs": [
        {
          "output_type": "stream",
          "name": "stdout",
          "text": [
            "[[2.5 4.5]\n",
            " [4.5 6.5]]\n"
          ]
        }
      ]
    },
    {
      "cell_type": "markdown",
      "metadata": {
        "id": "hEsecE643bxc"
      },
      "source": [
        "## 8. Matrix 클래스\n",
        "* matrix클래스는 입력 배열을 행렬로 해석해서 사용하는 클래스이다.\n",
        "* matrix클래스는 행렬 연산에 특화된 2차원 배열이다.\n",
        "* ndarray 클래스와의 차이점은 연산에 있다.\n",
        "* ndarray 클래스에서는 곱(\\*)과 제곱(**)연산을 각 원소에 대해 수행한다.\n",
        "* 하지만 matrix클래스에서는 곱과 제곱을 행렬 간의 연산으로 처리한다."
      ]
    },
    {
      "cell_type": "code",
      "metadata": {
        "colab": {
          "base_uri": "https://localhost:8080/"
        },
        "id": "tuYLWcxf3Ta4",
        "outputId": "7996b0f2-2383-49bf-94b6-5f4296b05d42"
      },
      "source": [
        "# 예제 3.33 matrix 행렬 생성\n",
        "\n",
        "import numpy as np\n",
        "\n",
        "array1 = np.array([1,2,3,4]).reshape(2,2)\n",
        "array2 = np.array([5,6,7,8]).reshape(2,2)\n",
        "\n",
        "mat1 = np.mat(array1)\n",
        "mat2 = np.mat(array2)\n",
        "\n",
        "print(mat1.T * mat2)      # .T는 전치행렬을 의미한다.\n",
        "print(mat1 ** 2)\n",
        "\n",
        "# matrix 클래스를 이용하면 간단하게 행렬에 대한 연산을 수행할 수 있지만 Numpy 라이브러리에서는 matrix 클래스의 사용을 권장하지 않는다. -> 추후 matrix클래스는 삭제될 가능성이 있다."
      ],
      "execution_count": 18,
      "outputs": [
        {
          "output_type": "stream",
          "name": "stdout",
          "text": [
            "[[26 30]\n",
            " [38 44]]\n",
            "[[ 7 10]\n",
            " [15 22]]\n"
          ]
        }
      ]
    },
    {
      "cell_type": "markdown",
      "metadata": {
        "id": "hlwbF6VG5Wgj"
      },
      "source": [
        "## 9. ndarray 클래스 - 관심 영역\n",
        "* Python OpenCV에서 관심영역을 지정하는 방식은 ndarray 클래스의 행렬에 블록 단위로 접근하는 방식과 동일하다.\n",
        "* 즉, 슬라이싱을 통해 원하는 영역의 범위를 설정하고 새로운 ndarray 클래스에 할당한다.\n",
        "* ex) 스티커앱 노드"
      ]
    },
    {
      "cell_type": "code",
      "metadata": {
        "colab": {
          "base_uri": "https://localhost:8080/"
        },
        "id": "x5y8CYkn4PTp",
        "outputId": "cdc2cfaa-a311-4e61-abb3-dc32320b8095"
      },
      "source": [
        "# 예제 3.34 - ndarray 클래스를 이용한 관심 영역 설정\n",
        "\n",
        "import numpy as np\n",
        "\n",
        "array = np.zeros((1280, 1920, 3), np.uint8)\n",
        "\n",
        "x, y, w, h = 100, 100, 300, 300\n",
        "roi = array[x:x+w, y:y+h]\n",
        "\n",
        "print(array.shape)\n",
        "print(roi.shape)"
      ],
      "execution_count": null,
      "outputs": [
        {
          "output_type": "stream",
          "name": "stdout",
          "text": [
            "(1280, 1920, 3)\n",
            "(300, 300, 3)\n"
          ]
        }
      ]
    },
    {
      "cell_type": "markdown",
      "metadata": {
        "id": "3e9qI_iv6PtS"
      },
      "source": [
        "## 10. ndarray 클래스 - 관심 채널\n",
        "* Python OpenCV에서 관심 채널을 지정하는 것은 관심 영역을 설정하는 방식과 동일하다.\n",
        "* ndarray 클래스 행렬에 블록 단위로 접근하는 방식을 사용한다.\n",
        "* 관심 채널도 슬라이싱을 통해 설정한다.\n",
        "* 관심채널로 설정된 배열은 새로운 ndarray 클래스에 할당해 사용한다."
      ]
    },
    {
      "cell_type": "code",
      "metadata": {
        "colab": {
          "base_uri": "https://localhost:8080/"
        },
        "id": "sSl8thJ_53Sg",
        "outputId": "1af06762-1b54-46e3-8a81-dbabf9be24fa"
      },
      "source": [
        "# 예제 3.35 - ndarray 클래스를 이용한 관심 채널 설정\n",
        "\n",
        "import numpy as np\n",
        "\n",
        "array = np.zeros((1280, 1920, 3), np.uint8)\n",
        "\n",
        "coi = array[:, :, 0]        # 너비와 높이는 그대로 유지하고 특정 채널의 값만 불러온다.\n",
        "                            # 그러므로 :, : 를 통해 행과 열은 그대로 유지하고 마지막 차원에 어떤 채널을 가져올지를 선택한다.\n",
        "\n",
        "print(array.shape)\n",
        "print(coi.shape)"
      ],
      "execution_count": null,
      "outputs": [
        {
          "output_type": "stream",
          "name": "stdout",
          "text": [
            "(1280, 1920, 3)\n",
            "(1280, 1920)\n"
          ]
        }
      ]
    },
    {
      "cell_type": "code",
      "metadata": {
        "id": "1direWiA6wq3"
      },
      "source": [
        ""
      ],
      "execution_count": null,
      "outputs": []
    }
  ]
}