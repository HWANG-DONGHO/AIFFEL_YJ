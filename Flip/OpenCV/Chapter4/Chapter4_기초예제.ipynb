{
  "nbformat": 4,
  "nbformat_minor": 5,
  "metadata": {
    "kernelspec": {
      "display_name": "Python 3",
      "language": "python",
      "name": "python3"
    },
    "language_info": {
      "codemirror_mode": {
        "name": "ipython",
        "version": 3
      },
      "file_extension": ".py",
      "mimetype": "text/x-python",
      "name": "python",
      "nbconvert_exporter": "python",
      "pygments_lexer": "ipython3",
      "version": "3.8.8"
    },
    "colab": {
      "name": "Chapter4. 기초예제.ipynb",
      "provenance": [],
      "collapsed_sections": [
        "8d78f8e1",
        "60966a5b",
        "09d85457",
        "10afec50",
        "c6259adb",
        "7ad806aa",
        "81b2323d",
        "62dfc9d7",
        "b000fefd"
      ]
    }
  },
  "cells": [
    {
      "cell_type": "markdown",
      "metadata": {
        "id": "b26fab0f"
      },
      "source": [
        "# 기초 예제"
      ],
      "id": "b26fab0f"
    },
    {
      "cell_type": "markdown",
      "metadata": {
        "id": "011b67e8"
      },
      "source": [
        "- 이번 실습에서는 OpenCV를 다루기 위한 기초 예제를 다룬다.\n",
        "- OpenCV는 영상 처리 이론과 이미지 구성요소, 기본 데이터 타입을 활용해 이미지를 처리한다.\n",
        "- OpenCV는 N차원 배열에 대한 복합적인 연산을 수행할 수 있지만, 주된 용도는 이미지 처리다.\n",
        "- 이미지는 2차원 배열인 행렬이다."
      ],
      "id": "011b67e8"
    },
    {
      "cell_type": "markdown",
      "metadata": {
        "id": "8704433c"
      },
      "source": [
        ""
      ],
      "id": "8704433c"
    },
    {
      "cell_type": "markdown",
      "metadata": {
        "id": "0749eb55"
      },
      "source": [
        "## 1. 이미지 입력"
      ],
      "id": "0749eb55"
    },
    {
      "cell_type": "markdown",
      "metadata": {
        "id": "87b29425"
      },
      "source": [
        "- 이미지 파일의 형식은 수백 가지다.   \n",
        "- OpenCV에서 이미지를 다룰 경우 가장 많이 사용되는 이미지 형식은 JPG나 PNG 등의 래스터 그래픽스 이미지 파일 포맷이다.   \n",
        "- 래스터 그래픽스: 비트맵 이미지를 뜻하며, 격자판의 형태로 각 격자마다 화소의 데이터가 담겨 있는 이미지 파일 포맷이다."
      ],
      "id": "87b29425"
    },
    {
      "cell_type": "markdown",
      "metadata": {
        "id": "1ba8b2f5"
      },
      "source": [
        "- OpenCV는 래스터 그래픽스 이미지 파일 포맷을 쉽게 불러올 수 있는 별도의 함수를 제공한다.\n",
        "- 이러한 함수는, 이미지 데이터 구조에 필요한 메모리를 할당하고, 파일 시그니처(저장 형식)를 읽어 코덱 을 결정한다.\n",
        "- 코덱 : 어떠한 데이터 스트림이나 신호에 대해, 인코딩이나 디코딩, 혹은 둘 다를 할 수 있는 하드웨어나 소프트웨어를 일컫는다."
      ],
      "id": "1ba8b2f5"
    },
    {
      "cell_type": "code",
      "metadata": {
        "id": "486e429a"
      },
      "source": [
        "# Python OpenCV의 이미지 입력 함수\n",
        "cv2.imread(\n",
        "    fileName,\n",
        "    flags = cv2.IMREAD_COLOR\n",
        ")"
      ],
      "id": "486e429a",
      "execution_count": null,
      "outputs": []
    },
    {
      "cell_type": "markdown",
      "metadata": {
        "id": "976471db"
      },
      "source": [
        "- 파일명 : 경로를 포함한 입력 파일의 이름(절대경로/상대경로 상대경로일 경우 실행하고있는 .py가 있는 경로를 기준으로 한다.)\n",
        "- 플래그 : 입력된 파일을 어떻게 해석할지 결정"
      ],
      "id": "976471db"
    },
    {
      "cell_type": "markdown",
      "metadata": {
        "id": "de6c2a7b"
      },
      "source": [
        "#### 절대경로 : 이미지의 전체 경로(헤드라인으로부터)"
      ],
      "id": "de6c2a7b"
    },
    {
      "cell_type": "markdown",
      "metadata": {
        "id": "c5d7bff4"
      },
      "source": [
        "- D:/Images/Orange.png\n",
        "- /usr/local/Images/Orange.png"
      ],
      "id": "c5d7bff4"
    },
    {
      "cell_type": "markdown",
      "metadata": {
        "id": "f836a6b0"
      },
      "source": [
        "#### 상대경로 : 현재 위치로부터의 상대적인 경로(이 경우 .py 파일이 존재하는 위치를 기준 경로로 삼는다)"
      ],
      "id": "f836a6b0"
    },
    {
      "cell_type": "markdown",
      "metadata": {
        "id": "2e2c8295"
      },
      "source": [
        "- ../Orange.png"
      ],
      "id": "2e2c8295"
    },
    {
      "cell_type": "markdown",
      "metadata": {
        "id": "46712347"
      },
      "source": [
        "#### 플래그의 기본값과 옵션"
      ],
      "id": "46712347"
    },
    {
      "cell_type": "markdown",
      "metadata": {
        "id": "4c0e7304"
      },
      "source": [
        "- 기본값을 '색상값'으로 가짐\n",
        "- 기본 플래그는 8비트, 3채널, BGR 이미지로 세팅되어 있다."
      ],
      "id": "4c0e7304"
    },
    {
      "cell_type": "markdown",
      "metadata": {
        "id": "af4f817b"
      },
      "source": [
        "- cv.IMREAD_GRAYSCALE(그레이스케일)\n",
        "- cv.IMREAD_COLOR(컬러이미지)\n",
        "- cv.IMREAD_UNCHANGED(알파 채널을 포함하여 이미지 반환/알파 없을 경우 일반 컬러로 반환)"
      ],
      "id": "af4f817b"
    },
    {
      "cell_type": "markdown",
      "metadata": {
        "id": "2e1495c1"
      },
      "source": [
        "- python의 경우, 이미지가 존재하지 않아도 오류가 나지 않는다.(C#은 오류로 처리됨)\n",
        "- 이는 이미지(로 변환될 행렬)가 존재하지 않는 경우, 반환값이 None이 되기 때문이다.\n",
        "- 색상 이미지는 BGR 순서로 저장된다."
      ],
      "id": "2e1495c1"
    },
    {
      "cell_type": "code",
      "metadata": {
        "id": "a4aaad6a"
      },
      "source": [
        "# 예제 4.2 Python OpenCV에서의 이미지 입력\n",
        "import cv2\n",
        "\n",
        "src = cv2.imread(\"OpenCV_Logo.png\", cv2.IMREAD_GRAYSCALE)\n",
        "\n",
        "print(src.ndim, src.shape, src.dtype)"
      ],
      "id": "a4aaad6a",
      "execution_count": null,
      "outputs": []
    },
    {
      "cell_type": "markdown",
      "metadata": {
        "id": "2b0f8251"
      },
      "source": [
        ""
      ],
      "id": "2b0f8251"
    },
    {
      "cell_type": "markdown",
      "metadata": {
        "id": "e3adaffa"
      },
      "source": [
        "## 2. 이미지 출력"
      ],
      "id": "e3adaffa"
    },
    {
      "cell_type": "markdown",
      "metadata": {
        "id": "0237b236"
      },
      "source": [
        "- 지금까지는 이미지를 행렬로 처리하고, 데이터로 확인하였으나 이미지를 시각적으로 확인해보는 것도 중요하다.\n",
        "- OpenCV는 HighGUI라 불리는 라이브러리를 지원하여, 이 라이브러리를 활용하여 윈도우를 열고, 윈도우에 이미지를 출력하도록 할 수 있다."
      ],
      "id": "0237b236"
    },
    {
      "cell_type": "code",
      "metadata": {
        "id": "b5381d38"
      },
      "source": [
        "# Python OpenCV의 이미지 출력 함수\n",
        "cv2.imshow(\n",
        "    winname,\n",
        "    ndarray\n",
        ")"
      ],
      "id": "b5381d38",
      "execution_count": null,
      "outputs": []
    },
    {
      "cell_type": "markdown",
      "metadata": {
        "id": "9f5d61ec"
      },
      "source": [
        "- 윈도우를 통해 이미지 출력이 가능함\n",
        "- winname : 윈도우 이름\n",
        "- ndarray : 이미지 행렬\n",
        "- 윈도우의 속성을 변경할 때는 변수가 아니라 winname에 변경 속성을 적용한다."
      ],
      "id": "9f5d61ec"
    },
    {
      "cell_type": "code",
      "metadata": {
        "id": "71cfe7a8"
      },
      "source": [
        "# 예제 4.4 Python OpenCV에서의 이미지 출력\n",
        "import cv2\n",
        "\n",
        "src = cv2.imread(\"OpenCV_Logo.png\", cv2.IMREAD_GRAYSCALE)\n",
        "\n",
        "cv2.namedWindow(\"src\", flags=cv2.WINDOW_FREERATIO)\n",
        "cv2.resizeWindow(\"src\", 400, 200)\n",
        "cv2.imshow(\"src\", src)\n",
        "cv2.waitKey(0)\n",
        "cv2.destroyWindow(\"src\")"
      ],
      "id": "71cfe7a8",
      "execution_count": null,
      "outputs": []
    },
    {
      "cell_type": "markdown",
      "metadata": {
        "id": "70183ac9"
      },
      "source": [
        "- cv2.namedWindow(winname, flags = None) 함수는 화면에 이미지를 표시할 수 있는 윈도우를 생성\n",
        "- cv2.resizeWindow(winname, width, height) 함수는 winname과 동일한 윈도우의 크기를 설정\n",
        "- cv2.imshow(string winname, Mat mat) 함수는 윈도우에 이미지를 표시\n",
        "- cv2.waitKey(int delay) 함수는 지정된 시간 동언 키 입력이 있을 때까지 프로그램을 지연시킴. 0이나 음수일 경우 키 입력이 있을 때까지 대기\n",
        "- cv2.destroyWindow(string winName) 함수는 윈도우를 제거"
      ],
      "id": "70183ac9"
    },
    {
      "cell_type": "markdown",
      "metadata": {
        "id": "8d78f8e1"
      },
      "source": [
        "### 마우스 콜백"
      ],
      "id": "8d78f8e1"
    },
    {
      "cell_type": "markdown",
      "metadata": {
        "id": "ba314fe1"
      },
      "source": [
        "-콜백(Callback) 함수는 매개 변수를 통해 다른 함수를 전달받고, 이벤트가 발생할 때 매개 변수에 전달된 함수를 호출하는 역할을 한다.   \n",
        "-즉, 이벤트가 발생하면 다른 함수를 실행하는 함수를 의미한다"
      ],
      "id": "ba314fe1"
    },
    {
      "cell_type": "code",
      "metadata": {
        "id": "dde249a0"
      },
      "source": [
        "# Python OpenCV의 마우스 콜백 설정 함수\n",
        "cv2.setMouseCallback(\n",
        "    windowName,\n",
        "    onMouse,\n",
        "    param = None\n",
        ")"
      ],
      "id": "dde249a0",
      "execution_count": null,
      "outputs": []
    },
    {
      "cell_type": "code",
      "metadata": {
        "id": "fb0777a4"
      },
      "source": [
        "# Python OpenCV의 마우스 콜백 설정 함수\n",
        "def func_name(\n",
        "    event,\n",
        "    x,\n",
        "    y,\n",
        "    flags,\n",
        "    param\n",
        ")"
      ],
      "id": "fb0777a4",
      "execution_count": null,
      "outputs": []
    },
    {
      "cell_type": "markdown",
      "metadata": {
        "id": "500ffafd"
      },
      "source": [
        "- 마우스 이벤트: 마우스의 동작을 전달\n",
        "- 마우스 좌표: 마우스 이벤트가 발생했을 때의 좌표를 전달\n",
        "- 마우스 플래그: 마우스 동작에 대한 특수한 정보나 방식을 전달"
      ],
      "id": "500ffafd"
    },
    {
      "cell_type": "code",
      "metadata": {
        "id": "623f570e"
      },
      "source": [
        "# 예제 4.4 Python OpenCV에서의 마우스 콜백 적용\n",
        "import cv2\n",
        "import numpy as np\n",
        "\n",
        "def mouse_event(event, x, y, flags, param):\n",
        "    global radius\n",
        "\n",
        "    if event == cv2.EVENT_LBUTTONDOWN:\n",
        "        cv2.circle(param, (x, y), radius, (255, 0, 0), 2)\n",
        "        cv2.imshow(\"draw\", src)\n",
        "\n",
        "    elif event == cv2.EVENT_MOUSEWHEEL:\n",
        "        if flags > 0:\n",
        "            radius += 1\n",
        "        elif radius > 1:\n",
        "            radius -= 1\n",
        "\n",
        "radius = 3\n",
        "src = np.full((500, 500, 3), 255, dtype=np.uint8)\n",
        "\n",
        "cv2.imshow(\"draw\", src)\n",
        "cv2.setMouseCallback(\"draw\", mouse_event, src)\n",
        "cv2.waitKey()\n",
        "cv2.destroyAllWindows()"
      ],
      "id": "623f570e",
      "execution_count": null,
      "outputs": []
    },
    {
      "cell_type": "markdown",
      "metadata": {
        "id": "0fadf313"
      },
      "source": [
        ""
      ],
      "id": "0fadf313"
    },
    {
      "cell_type": "markdown",
      "metadata": {
        "id": "e0e6413f"
      },
      "source": [
        "## 3. 동영상 출력"
      ],
      "id": "e0e6413f"
    },
    {
      "cell_type": "markdown",
      "metadata": {
        "id": "0b067b18"
      },
      "source": [
        "- OpenCV를 이용하면 동영상 파일을 출력할 수 있다. 동영상 파일에서 순차적으로 프레임을 읽어, 이미지의 형태로 출력한다.\n",
        "- 동영상 파일을 읽으려면 컴퓨터에 동영상 코덱을 읽을 수 있는 라이브러리가 설치되어 있어야 한다.\n",
        "- OpenCV는 FFMPEG를 지원하므로 AVI나 MP4 등 다양한 형식의 동영상 파일을 손쉽게 읽을 수 있다."
      ],
      "id": "0b067b18"
    },
    {
      "cell_type": "markdown",
      "metadata": {
        "id": "ed97e198"
      },
      "source": [
        "- FFMPEG : FFmpeg은 디지털 음성 스트림과 영상 스트림에 대해서 다양한 종류의 형태로 기록하고 변환하는 컴퓨터 프로그램이다."
      ],
      "id": "ed97e198"
    },
    {
      "cell_type": "code",
      "metadata": {
        "id": "b596a796"
      },
      "source": [
        "# Python OpenCV의 동영상 입력 클래스\n",
        "capture = cv2.VideoCapture(fileName)"
      ],
      "id": "b596a796",
      "execution_count": null,
      "outputs": []
    },
    {
      "cell_type": "markdown",
      "metadata": {
        "id": "5ff563ca"
      },
      "source": [
        "- 파일명 : 경로를 포함한 입력 파일의 이름"
      ],
      "id": "5ff563ca"
    },
    {
      "cell_type": "code",
      "metadata": {
        "id": "5d4dd20a"
      },
      "source": [
        "# 예제 4.8 Python OpenCV의 동영상 출력\n",
        "import cv2\n",
        "\n",
        "capture = cv2.VideoCapture(\"Star.mp4\")\n",
        "\n",
        "while True:\n",
        "    ret, frame = capture.read()\n",
        "\n",
        "    if(capture.get(cv2.CAP_PROP_POS_FRAMES) == capture.get(cv2.CAP_PROP_FRAME_COUNT)):\n",
        "        capture.open(\"Star.mp4\")\n",
        "\n",
        "    cv2.imshow(\"VideoFrame\", frame)\n",
        "    if cv2.waitKey(33) == ord('q'): break\n",
        "\n",
        "capture.release()\n",
        "cv2.waitKey() # q를 입력하면 재생 중지\n",
        "cv2.destroyAllWindows()"
      ],
      "id": "5d4dd20a",
      "execution_count": null,
      "outputs": []
    },
    {
      "cell_type": "markdown",
      "metadata": {
        "id": "f40db62f"
      },
      "source": [
        "- capture.read():  동영상 파일에서 프레임을 가져와 압축을 해제한 다음 bool과 ndarray 타입의 값을 반환\n",
        "- ret(bool):  capture 변수에서 정장적으로 프레임을 읽었는지를 나타냄\n",
        "- frame(ndarray): 현재 프레임을 나타냄\n",
        "- capture.release(): 동영상 재생이 끝났다면 동영상 파일을 닫고 메모리를 해제"
      ],
      "id": "f40db62f"
    },
    {
      "cell_type": "markdown",
      "metadata": {
        "id": "60966a5b"
      },
      "source": [
        "### FPS(Frame Per Second)"
      ],
      "id": "60966a5b"
    },
    {
      "cell_type": "markdown",
      "metadata": {
        "id": "af67967c"
      },
      "source": [
        "- 동영상을 출력할 때 중요한 요소는 영상이 바뀌는 속도이다.(== 화면이 얼마나 부드럽게 재생되느냐)\n",
        "- 동영상은 멈춰있는 사진들이 순차적으로 출력되어 움직이는 화면처럼 만든 것을 의미한다.\n",
        "- FPS(초당 프레임)가 높을수록 화면이 끊기지 않고 자연스럽게 출력된다."
      ],
      "id": "af67967c"
    },
    {
      "cell_type": "markdown",
      "metadata": {
        "id": "728eed52"
      },
      "source": [
        "![image.png](attachment:image.png)"
      ],
      "id": "728eed52"
    },
    {
      "cell_type": "markdown",
      "metadata": {
        "id": "a1965ee3"
      },
      "source": [
        "- Interval : 대기할 밀리초 단위"
      ],
      "id": "a1965ee3"
    },
    {
      "cell_type": "markdown",
      "metadata": {
        "id": "c03c164d"
      },
      "source": [
        ""
      ],
      "id": "c03c164d"
    },
    {
      "cell_type": "markdown",
      "metadata": {
        "id": "0939148b"
      },
      "source": [
        "## 4. 카메라 출력"
      ],
      "id": "0939148b"
    },
    {
      "cell_type": "markdown",
      "metadata": {
        "id": "b474cdfd"
      },
      "source": [
        "- 카메라 출력은 카메라가 스트리밍 형태로 동작할 때 사용한다.\n",
        "- 즉, 저장된 이미지나 동영상 파일이 아니라 데이터를 실시간으로 받아오고 분석해야 하는 경우 카메라를 이용해 데이터를 처리한다."
      ],
      "id": "b474cdfd"
    },
    {
      "cell_type": "code",
      "metadata": {
        "id": "e029ee41"
      },
      "source": [
        "#  Python opencv의 카메라 출력\n",
        "capture = cv2.VideoCapture(index)"
      ],
      "id": "e029ee41",
      "execution_count": null,
      "outputs": []
    },
    {
      "cell_type": "markdown",
      "metadata": {
        "id": "7b0f7bd9"
      },
      "source": [
        "- index는 카메라의 장치 번호(ID)\n",
        "- 웹캠이 내장된 노트북이나, 카메라가 없는 컴퓨터에 카메라를 연결할 경우 장치 번호는 0을 사용한다.\n",
        "- 그 외에 1,2,3 등의 장치번호를 사용해 추가된 외부 카메라를 사용할 수 있다"
      ],
      "id": "7b0f7bd9"
    },
    {
      "cell_type": "code",
      "metadata": {
        "id": "20c782b7"
      },
      "source": [
        "# 예제 4.10 Python opencv의 카메라 출력\n",
        "import cv2\n",
        "\n",
        "capture = cv2.VideoCapture(0)\n",
        "capture.set(cv2.CAP_PROP_FRAME_WIDTH, 640)\n",
        "capture.set(cv2.CAP_PROP_FRAME_HEIGHT, 480)\n",
        "\n",
        "while True:\n",
        "    ret, frame = capture.read()\n",
        "    if ret == True:\n",
        "        cv2.imshow(\"VideoFrame\", frame)\n",
        "        if cv2.waitKey(33) == ord('q'): break\n",
        "    else:\n",
        "        break\n",
        "\n",
        "capture.release()\n",
        "cv2.destroyAllWindows()"
      ],
      "id": "20c782b7",
      "execution_count": null,
      "outputs": []
    },
    {
      "cell_type": "markdown",
      "metadata": {
        "id": "ee26ae6c"
      },
      "source": [
        ""
      ],
      "id": "ee26ae6c"
    },
    {
      "cell_type": "markdown",
      "metadata": {
        "id": "1f911f1e"
      },
      "source": [
        "## 5. 이미지 연결"
      ],
      "id": "1f911f1e"
    },
    {
      "cell_type": "markdown",
      "metadata": {
        "id": "4718c699"
      },
      "source": [
        "- 이미지 연결은 서로 다른 이미지를 이어 붙여 하나의 이미지로 만드는 기능\n",
        "- 주로, 서로 다른 이미지를 병합해 하나의 이미지로 만들거나, 알고리즘 적용 전 이미지와 알고리즘이 적용된 이미지를 상호 비교하기 위해 사용"
      ],
      "id": "4718c699"
    },
    {
      "cell_type": "code",
      "metadata": {
        "id": "2a29f873"
      },
      "source": [
        "# Python OpenCV의 수평 이미지 연결 함수\n",
        "dst = cv2.hconcat(\n",
        "    src\n",
        ")"
      ],
      "id": "2a29f873",
      "execution_count": null,
      "outputs": []
    },
    {
      "cell_type": "code",
      "metadata": {
        "id": "5c1d026d"
      },
      "source": [
        "# Python OpenCV의 수직 이미지 연결 함수\n",
        "dst = cv2.vconcat(\n",
        "    src\n",
        ")"
      ],
      "id": "5c1d026d",
      "execution_count": null,
      "outputs": []
    },
    {
      "cell_type": "markdown",
      "metadata": {
        "id": "21e5269e"
      },
      "source": [
        "- 연결할 이미지는 같은 채널과 정밀도를 가져야 하며, 다를 경우 연결 불가능\n",
        "- 만약 서로 다른 채널과 정밀도를 가지는 이미지를 연결하려면 동일한 채널과 정밀도를 갖게 변경해야 한다."
      ],
      "id": "21e5269e"
    },
    {
      "cell_type": "code",
      "metadata": {
        "id": "df471d9a"
      },
      "source": [
        "# 예제 4.12 Python OpenCV에서의 이미지 연결 적용\n",
        "import cv2\n",
        "import numpy as np\n",
        "\n",
        "one = cv2.imread(\"one.jpg\")\n",
        "two = cv2.imread(\"two.jpg\")\n",
        "three = cv2.imread(\"three.jpg\")\n",
        "four = cv2.imread(\"four.jpg\")\n",
        "\n",
        "horizontal1 = np.full((50, one.shape[1], 3), [0, 0, 0], dtype=np.uint8)\n",
        "horizontal2 = np.full((50, two.shape[1], 3), (0, 0, 0), dtype=np.uint8)\n",
        "\n",
        "left = cv2.vconcat((one, horizontal1, three))\n",
        "# left = np.vstack((one, horizontal1, three))\n",
        "# right = cv2.vconcat((two, horizontal2, four))\n",
        "right = np.vstack((two, horizontal2, four))\n",
        "\n",
        "vertical = np.full((left.shape[0], 50, 3), 0, dtype=np.uint8)\n",
        "\n",
        "dst = cv2.hconcat((left, vertical, right))\n",
        "# dst = np.hstack((left, vertical, right))\n",
        "# dst = np.concatenate((left, line, right), axis=1)\n",
        "\n",
        "cv2.imshow(\"dst\", dst)\n",
        "cv2.waitKey()\n",
        "cv2.destroyAllWindows()"
      ],
      "id": "df471d9a",
      "execution_count": null,
      "outputs": []
    },
    {
      "cell_type": "markdown",
      "metadata": {
        "id": "2db1b458"
      },
      "source": [
        ""
      ],
      "id": "2db1b458"
    },
    {
      "cell_type": "markdown",
      "metadata": {
        "id": "8ab548a1"
      },
      "source": [
        "## 6. 도형 그리기"
      ],
      "id": "8ab548a1"
    },
    {
      "cell_type": "markdown",
      "metadata": {
        "id": "faf27528"
      },
      "source": [
        "- 도형 그리기는 영상이나 이미지 위에 그래픽을 그리는 것을 의미한다.\n",
        "- OpenCV의 도형 그리기 함수는 검출 결과를 시각적으로 표시하는 데 사용된다."
      ],
      "id": "faf27528"
    },
    {
      "cell_type": "markdown",
      "metadata": {
        "id": "7cece678"
      },
      "source": [
        "- 도형 그리기 함수는 모든 정밀도와 채널에 대해 동작한다.\n",
        "- 행렬(이미지)이 아닌 배열에도 도형을 그릴 수 있다.\n",
        "- 그리기 함수는 위치, 두께, 색상, 선형 타입, 비트 시프트(bit shift) 등의 인수를 활용해 개체를 그린다."
      ],
      "id": "7cece678"
    },
    {
      "cell_type": "markdown",
      "metadata": {
        "id": "09d85457"
      },
      "source": [
        "### 선형 타입"
      ],
      "id": "09d85457"
    },
    {
      "cell_type": "markdown",
      "metadata": {
        "id": "fd60364c"
      },
      "source": [
        "- 도형을 그릴 때 어떤 유형의 선으로 그릴 지 결정하는 인수\n",
        "    1. 브레젠험 알고리즘(Bresenham's algorithm)\n",
        "    2. 안티 에일리어싱(Anti-Aliasing)\n",
        "    3. 내부 채우기"
      ],
      "id": "fd60364c"
    },
    {
      "cell_type": "markdown",
      "metadata": {
        "id": "f81621d0"
      },
      "source": [
        "1. 브레젠험 알고리즘(Bresenham's algorithm)"
      ],
      "id": "f81621d0"
    },
    {
      "cell_type": "markdown",
      "metadata": {
        "id": "e2d380c8"
      },
      "source": [
        "- (4연결-8연결)\n",
        "- 4연결 : 위아래좌우\n",
        "- 8연결 : 위아래좌우대각선"
      ],
      "id": "e2d380c8"
    },
    {
      "cell_type": "markdown",
      "metadata": {
        "id": "b3d332b5"
      },
      "source": [
        "2. 안티 에일리어싱(Anti-Aliasing)"
      ],
      "id": "b3d332b5"
    },
    {
      "cell_type": "markdown",
      "metadata": {
        "id": "6156af53"
      },
      "source": [
        "- 영상 신호의 결함을 없애기 위한 방법\n",
        "- 이미지, 객체 가장자리 부분의 계단 현상을 없애기 위해 선을 둥글게 그리는 방식"
      ],
      "id": "6156af53"
    },
    {
      "cell_type": "markdown",
      "metadata": {
        "id": "d8c2f764"
      },
      "source": [
        "![image.png](attachment:image.png)"
      ],
      "id": "d8c2f764"
    },
    {
      "cell_type": "markdown",
      "metadata": {
        "id": "10afec50"
      },
      "source": [
        "### 직선 그리기"
      ],
      "id": "10afec50"
    },
    {
      "cell_type": "markdown",
      "metadata": {
        "id": "18f2dea2"
      },
      "source": [
        "- 직선 그리기 함수는 이미지나 영상 위에 단순한 선을 그린다.\n",
        "- 주로 두 점을 이어 검출된 결과를 사용자가 인식하기 쉽게 표시하거나 이미지의 특정 영역을 보정하기 위해 사용"
      ],
      "id": "18f2dea2"
    },
    {
      "cell_type": "code",
      "metadata": {
        "id": "64e92f61"
      },
      "source": [
        "cv2.line(\n",
        "    img, \n",
        "    pt1,\n",
        "    pt2,\n",
        "    color,\n",
        "    thickness=None,\n",
        "    lineType=None,\n",
        "    shift=None\n",
        ")"
      ],
      "id": "64e92f61",
      "execution_count": null,
      "outputs": []
    },
    {
      "cell_type": "markdown",
      "metadata": {
        "id": "c6259adb"
      },
      "source": [
        "### 사각형 그리기"
      ],
      "id": "c6259adb"
    },
    {
      "cell_type": "markdown",
      "metadata": {
        "id": "6a0576fc"
      },
      "source": [
        "- 사각형 그리기 함수는 이미지나 영상 위에 단순한 사각형을 그린다.\n",
        "- 주로 관심 영역을 설정하기 위한 변숫값으로 활용하거나 검출된 결과를 사용하가 인식하기 쉽게 표시하는 데 사용"
      ],
      "id": "6a0576fc"
    },
    {
      "cell_type": "code",
      "metadata": {
        "id": "2b91961c"
      },
      "source": [
        "cv2.rectangle(\n",
        "    img, \n",
        "    pt1,\n",
        "    pt2,\n",
        "    color,\n",
        "    thickness=None,\n",
        "    lineType=None,\n",
        "    shift=None\n",
        ")"
      ],
      "id": "2b91961c",
      "execution_count": null,
      "outputs": []
    },
    {
      "cell_type": "markdown",
      "metadata": {
        "id": "7ad806aa"
      },
      "source": [
        "### 원 그리기"
      ],
      "id": "7ad806aa"
    },
    {
      "cell_type": "markdown",
      "metadata": {
        "id": "09a0e98a"
      },
      "source": [
        "- 원 그리기 함수는 이미지나 영상 위에 단순한 원을 그린다.\n",
        "- 주로 검출된 좌푯값을 사용자가 인식하기 쉽게 표시하는 데 사용"
      ],
      "id": "09a0e98a"
    },
    {
      "cell_type": "code",
      "metadata": {
        "id": "aecd2ba2"
      },
      "source": [
        "cv2.circle(\n",
        "    img,\n",
        "    center, # 원의 중심\n",
        "    radius, # 반지름\n",
        "    color, \n",
        "    thickness=None,\n",
        "    lineType=None,\n",
        "    shift=None\n",
        ")"
      ],
      "id": "aecd2ba2",
      "execution_count": null,
      "outputs": []
    },
    {
      "cell_type": "markdown",
      "metadata": {
        "id": "81b2323d"
      },
      "source": [
        "### 호 그리기"
      ],
      "id": "81b2323d"
    },
    {
      "cell_type": "markdown",
      "metadata": {
        "id": "e8f5a511"
      },
      "source": [
        "- 호 그리기 함수는 이미지나 영상 위에 단순한 호나 타원을 그린다.\n",
        "- 주로 검출된 타원을 그리거나 호을 그리거나 타원 객체의 부정확한 영역을 보정하기 위해 사용"
      ],
      "id": "e8f5a511"
    },
    {
      "cell_type": "code",
      "metadata": {
        "id": "c2ba3112"
      },
      "source": [
        "cv2.ellipse(\n",
        "    img,\n",
        "    center, # 원의 중심\n",
        "    axes, # 장축과 단축\n",
        "    angle, # 장축이 기울어진 각도\n",
        "    startAngle, # 시작 각도\n",
        "    endAngle, # 도착 각도\n",
        "    color,\n",
        "    thickness=None,\n",
        "    lineType=None,\n",
        "    shift=None\n",
        ")"
      ],
      "id": "c2ba3112",
      "execution_count": null,
      "outputs": []
    },
    {
      "cell_type": "markdown",
      "metadata": {
        "id": "dfbc4e5c"
      },
      "source": [
        "![image.png](attachment:image.png)"
      ],
      "id": "dfbc4e5c"
    },
    {
      "cell_type": "markdown",
      "metadata": {
        "id": "62dfc9d7"
      },
      "source": [
        "### 내부가 채워지지 않은 다각형 그리기"
      ],
      "id": "62dfc9d7"
    },
    {
      "cell_type": "markdown",
      "metadata": {
        "id": "4b9f4b4c"
      },
      "source": [
        "- 내부가 채워지지 않은 다각형 그리기 함수는 이미지나 영상 위에 여러개의 다각형 곡선을 그린다.\n",
        "- 주로 복잡한 형상의 다각형을 그리거나 검출된 윤곽선의 일부를 시각적으로 확인할 때 사용"
      ],
      "id": "4b9f4b4c"
    },
    {
      "cell_type": "code",
      "metadata": {
        "id": "faad27fc"
      },
      "source": [
        "cv2.polylines(img,\n",
        "              pts, # 선들의 묶음\n",
        "              isClosed, # 닫힘 여부: 처음 좌표와 마지막 좌표의 연결 여부 설정\n",
        "              color,\n",
        "              thickness=None,\n",
        "              lineType=None,\n",
        "              shift=None\n",
        "             )"
      ],
      "id": "faad27fc",
      "execution_count": null,
      "outputs": []
    },
    {
      "cell_type": "markdown",
      "metadata": {
        "id": "b000fefd"
      },
      "source": [
        "### 내부가 채워진 다각형 그리기"
      ],
      "id": "b000fefd"
    },
    {
      "cell_type": "markdown",
      "metadata": {
        "id": "afaff6d5"
      },
      "source": [
        "- 내부가 채워진 다각형 그리기 함수는 이미지나 영상 위에 내부가 채워진 여러 개의 다각형 곡선을 그린다.\n",
        "- 주로 복잡한 형상의 다각형을 그리거나 검출된 결과를 이미지 위에 덮어 씌울 때 사용"
      ],
      "id": "afaff6d5"
    },
    {
      "cell_type": "code",
      "metadata": {
        "id": "28793e16"
      },
      "source": [
        "cv2.fillPoly(img,\n",
        "             pts,\n",
        "             color,\n",
        "             thickness=None,\n",
        "             lineType=None,\n",
        "             shift=None\n",
        "            )"
      ],
      "id": "28793e16",
      "execution_count": null,
      "outputs": []
    },
    {
      "cell_type": "markdown",
      "metadata": {
        "id": "b038956a"
      },
      "source": [
        "### 문자 그리기"
      ],
      "id": "b038956a"
    },
    {
      "cell_type": "markdown",
      "metadata": {
        "id": "77c4a17d"
      },
      "source": [
        "- 문자 그리기 함수는 이미지나 영상 위에 문자를 표시\n",
        "- 주로 검출된 결과에 시각적으로 라벨을 표시 할 때 사용\n",
        "- 문자 그리기는 문자를 이미지에 입력하는 것이 아닌, 문자를 그리는 방식"
      ],
      "id": "77c4a17d"
    },
    {
      "cell_type": "code",
      "metadata": {
        "id": "96c26974"
      },
      "source": [
        "cv2.putText(img,\n",
        "            text, # 문자열\n",
        "            org, # 좌측 상단 모서리\n",
        "            fontFace, # 글꼴\n",
        "            fontScale, # 글자 크기\n",
        "            color,\n",
        "            thickness=None,\n",
        "            lineType=None,\n",
        "            shift=None\n",
        "           )"
      ],
      "id": "96c26974",
      "execution_count": null,
      "outputs": []
    },
    {
      "cell_type": "code",
      "metadata": {
        "id": "3eafb540"
      },
      "source": [
        "# Python OpenCV의 그리기 함수 활용\n",
        "import numpy as np\n",
        "import cv2\n",
        "\n",
        "img = np.zeros((768, 1366, 3), dtype = np.uint8)\n",
        "\n",
        "cv2.line(img, (100, 100), (1200, 100), (0, 0, 255), 3, cv2.LINE_AA)\n",
        "cv2.circle(img, (300, 300), 50, (0, 255, 0), cv2.FILLED, cv2.LINE_4)\n",
        "cv2.rectangle(img, (500, 200), (1000, 400), (255, 0, 0), 5, cv2.LINE_8)\n",
        "cv2.ellipse(img, (1200, 300), (100, 50), 0, 90, 180, (255, 255, 0), 2)\n",
        "\n",
        "pts1 = np.array([[[100, 500], [300, 500], [200, 600]], [[400, 500], [500, 500], [600, 700]]])\n",
        "pts2 = np.array([[700, 500], [800, 500], [700, 600]])\n",
        "cv2.polylines(img, pts1, True, (0, 255, 255), 2)\n",
        "cv2.fillPoly(img, [pts2], (255, 0, 255), cv2.LINE_AA)\n",
        "\n",
        "cv2.putText(img, \"OpenCV\", (900, 600), cv2.FONT_HERSHEY_COMPLEX | cv2.FONT_ITALIC, 2, (255, 255, 255), 3)\n",
        "\n",
        "cv2.imshow(\"img\", img)\n",
        "cv2.waitKey(0)\n",
        "cv2.destroyAllWindows()"
      ],
      "id": "3eafb540",
      "execution_count": null,
      "outputs": []
    },
    {
      "cell_type": "markdown",
      "metadata": {
        "id": "Fycjr11On97X"
      },
      "source": [
        "## 7. 트랙 바\n",
        "* 프로그램을 개발할 때, 메서드 혹은 함수에서 사용되는 매개변수나 인수의 값을 조절하면서 최적의 값을 찾으려 하면 불필요한 작업이 많아진다.\n",
        "* 이때 트랙 바(track bar : 일종의 스크롤 바로 일정 범위 내의 값을 변경할 때 주로 사용하며 적절한 임곗값을 찾거나 변경하는데 사용할 수 있다.)를 사용한다.\n",
        "  * OpenCV에서는 트랙 바를 생성하고 지정된 윈도우에 부착해 사용한다.\n",
        "  * 트랙 바의 이름을 클릭해 임의의 값을 입력할 수 있으며 트랙 바의 슬라이더를 직접 조작해 값을 변경할 수 있다.\n",
        "  * 트랙 바에는 트랙 바의 위치가 변경될 때마다 호출될 콜백 함수를 지정해 특정 명령을 실행하게 하거나, 트랙 바가 현재 위치한 값을 가져와 특정 명령을 수행할 수 있다."
      ],
      "id": "Fycjr11On97X"
    },
    {
      "cell_type": "code",
      "metadata": {
        "id": "d77d34fe"
      },
      "source": [
        "# 트랙 바 생성함수\n",
        "cv2.createTrackbar(\n",
        "    trackbarName,   # 트랙 바 이름\n",
        "    windowName,     # 윈도우 이름\n",
        "    value,          # 트랙 바의 초기 슬라이더 위치\n",
        "    count,          # 트랙 바의 최대 위치\n",
        "    onChange        # 콜백 함수, 슬라이더가 위치를 변경할 때마다 호출되는 함수\n",
        ")"
      ],
      "id": "d77d34fe",
      "execution_count": null,
      "outputs": []
    },
    {
      "cell_type": "code",
      "metadata": {
        "id": "jyfrTlseoAOF"
      },
      "source": [
        "# 트랙 바 위치 반환 함수\n",
        "retval = cv2.getTrackbarPos(   # retval을 통해 반환하는 트랙 바 이름과 윈도우 이름의 위치 값은 \n",
        "                               # 트랙 바 생성 함수의 값(value)와 콜백 함수(onChange)에서 전달하는 값(value)과 동일하다.\n",
        "    trackbarName,   \n",
        "    windowName\n",
        ")"
      ],
      "id": "jyfrTlseoAOF",
      "execution_count": null,
      "outputs": []
    },
    {
      "cell_type": "code",
      "metadata": {
        "id": "bl6tF3IMoBMj"
      },
      "source": [
        "# OpenCV 에서의 트랙 바 적용\n",
        "import cv2\n",
        "import numpy as np\n",
        "\n",
        "# 콜백 함수\n",
        "def onChangeBlue(pos):\n",
        "    global b\n",
        "    b = pos\n",
        "    cv2.imshow('Pallete', createImage(b,g,r))\n",
        "    \n",
        "def createImage(b,g,r):\n",
        "    return np.full((500, 500, 3), (b,g,r), dtype=np.uint8)\n",
        "\n",
        "b,g,r = 0,0,0\n",
        "cv2.namedWindow('Pallete')\n",
        "cv2.createTrackbar('Blue', 'Pallete', 55, 255, onChangeBlue)\n",
        "cv2.createTrackbar('Green', 'Pallete', 0, 255, lambda x:x)\n",
        "cv2.createTrackbar('Red', 'Pallete', 0, 255, lambda x:x)\n",
        "\n",
        "while True:\n",
        "    g = cv2.getTrackbarPos('Green', 'Pallete')\n",
        "    r = cv2.getTrackbarPos('Red', 'Pallete')\n",
        "    \n",
        "    cv2.imshow('Pallete', createImage(b,g,r))\n",
        "    if cv2.waitKey(33) & 0xFF == ord('q'):\n",
        "        break\n",
        "        \n",
        "cv2.destroyAllWindows()"
      ],
      "id": "bl6tF3IMoBMj",
      "execution_count": null,
      "outputs": []
    },
    {
      "cell_type": "markdown",
      "metadata": {
        "id": "PxfmfQWAwfcJ"
      },
      "source": [
        "## 8. 결과 저장\n",
        "* OpenCV에서는 자체적으로 원본이나 결과물을 디스크에 저장할 수 있다.\n",
        "  * 원본을 변형하지 않고 OpenCV의 코델을 활용해 파일 형식을 변경한다.\n",
        "  * 도형 그리기 함수 또는 컴퓨터 비전 알고리즘이 적용된 이미지 파일이나 동영상 파일로 저장할 수 있다.\n",
        "  * 결과 저장 함수는 이미지 입력 함수와 동일하게 압축 및 압축 해제 등의 고수준 작업을 처리한다.\n",
        "\n",
        "### 이미지 저장\n",
        "* 이미지는 보통 8비트 3채널 이미지로 저장된다.\n",
        "* PNG, TIFF등의 이미지 형식으로 저장하면 16비트 이미지나 알파 채널이 포함된 4채널 이미지도 저장할 수 있다.\n",
        "* 4채널 이미지의 알파 채널 값을 설정할 때는 완전히 투명한 픽셀은 알파 값을 0으로 설정하고, 불투명한 픽셀은 255/65535로 설정한다.\n",
        "* 이미지 저장 함수는 이미지 파일 포맷을 처리하기 위해 소프트웨어 라이브러리(코덱)에 의존적이며 운영체제마다 각기 다른 코덱과 포맷을 사용한다.\n",
        "* OpenCV는 JPEG, PNG, TIFF 등은 자체적으로 지원하지만 일부 코덱은 운영체제 코덱에 의존하며, 외부 라이브러리인 libjpeg나 libpng 등의 코덱을 적용해 이미지를 저장할 수 있다.\n",
        "* 윈도우에서는 OpenCV 자체 포맷을 사용하며, macOS나 리눅스에서는 외부 라이브러리를 사용한다."
      ],
      "id": "PxfmfQWAwfcJ"
    },
    {
      "cell_type": "code",
      "metadata": {
        "id": "lUIe16BboPcm"
      },
      "source": [
        "# OpenCV의 이미지 저장 함수\n",
        "# 이미지 저장 함수는 bool값을 반환하며 저장에 성공한 경우 true를, 저장에 실패한 경우 오류를 반환하지 않고 false를 반환한다.\n",
        "cv2.imwrite(\n",
        "    filename,         # 경로를 포함한 입력 파일의 이름\n",
        "    img,              # 저장할 이미지(경로를 포함하지 않을 경우 상대경로로 간주한다.)\n",
        "    params = None     # 옵션 매개 변수는 인코딩될 매개 변수를 의미하며, 설정할 값이 없는 경우 입력하지 않아도 된다.\n",
        ")"
      ],
      "id": "lUIe16BboPcm",
      "execution_count": null,
      "outputs": []
    },
    {
      "cell_type": "code",
      "metadata": {
        "id": "R6ZlORRXyPza"
      },
      "source": [
        "# OpenCV에서의 이미지 저장\n",
        "import numpy as np\n",
        "import cv2\n",
        "\n",
        "img = np.zeros((480, 640, 3), dtype = np.uint8)\n",
        "\n",
        "save = cv2.imwrite('CV.jpeg', img, (cv2.IMWRITE_JPEG_QUALITY, 100, cv2.IMWRITE_JPEG_PROGRESSIVE, 1))\n",
        "print(save)"
      ],
      "id": "R6ZlORRXyPza",
      "execution_count": null,
      "outputs": []
    },
    {
      "cell_type": "markdown",
      "metadata": {
        "id": "Txh2bBEmzIR5"
      },
      "source": [
        "### 동영상 저장\n",
        "* OpenCV에서는 동영상을 저장할 때 프레임의 변경이나 변형을 녹화해서 저장할 수 있다.\n",
        "* 운영체제마다 동양상 저장을 지원하는 코덱이 다르다\n",
        "  * 윈도우 : FFmpeg, MSWF, DShow\n",
        "  * macOS : AVFoundation\n",
        "  * Linux : FFmpeg\n",
        "* 동영상 저장 함수는 이미지 저장 함수와 동일하게 파일명의 확장자와 설정된 코덱을 읽어 기록한다.\n",
        "* 동영상 저장 함수는 새롭게 파일을 생성하므로 함수를 호출할 때 사용할 코덱, 프레임 속도, 프레임 등을 입력해야 한다."
      ],
      "id": "Txh2bBEmzIR5"
    },
    {
      "cell_type": "code",
      "metadata": {
        "id": "9Z9f02C1zpJ7"
      },
      "source": [
        "# OpenCV의 동영상 저장 함수\n",
        "cv2.imwrite(\n",
        "    filename,           # 경로를 포함한 입력 파일의 이름, 확장자를 지정해 파일 포맷을 명시적으로 표시한다.\n",
        "    fourcc,             # 동영상 파일을 저장할 때 사용할 압축 코덱\n",
        "    fps,                # 출력 파일에 저장될 프레임 속도\n",
        "    frameSize,          \n",
        "    isColor = True      # 프레임을 동영상 저장 함수에 전달할 때 다중 채널(색상 이미지)로 입력될 것인지 판단하는 매개 변수. False를 지정하면 단일 채널(흑백 이미지)로 입력될 것으로 간주하고 그레이 스케일 프레임도 처리할 수 있다.\n",
        ")"
      ],
      "id": "9Z9f02C1zpJ7",
      "execution_count": null,
      "outputs": []
    },
    {
      "cell_type": "code",
      "metadata": {
        "id": "rPcxIrqe0m0P"
      },
      "source": [
        "import cv2\n",
        "\n",
        "capture = cv2.VideoCapture('Star.mp4')\n",
        "width = int(capture.get(cv2.CAP_PROP_FRAME_WIDTH))\n",
        "height = int(capture.get(cv2.CAP_PROP_FRAME_HEIGHT))\n",
        "videoWriter = cv2.videoWriter()\n",
        "isWrite = False\n",
        "\n",
        "while True:\n",
        "  ret, frame = capture.read()\n",
        "\n",
        "  if(capture.get(cv2.CAP_PROP_POS_FRAMES) == capture.get(cv2.CAP_PROP_FRAME_COUNT)):\n",
        "    capture.open('Star.mp4')\n",
        "\n",
        "  cv2.imshow('VideoFrame', frame)\n",
        "  key = cv2.waitKey(33)\n",
        "\n",
        "  if key == 4:\n",
        "    fourcc = cv2.VideoWriter_fourcc(*'XVID')\n",
        "    videoWriter.open('Video.avi', fourcc, 30, (width, height), True)\n",
        "    isWrite = True\n",
        "  \n",
        "  elif key == 24:\n",
        "    videoWriter.release()\n",
        "    isWrite = False\n",
        "\n",
        "  elif key == ord('q'): break\n",
        "\n",
        "  if isWrite == True:\n",
        "    videoWriter.write(frame)\n",
        "\n",
        "videoWriter.release()\n",
        "capture.release()\n",
        "cv2.destroyAllWindows()"
      ],
      "id": "rPcxIrqe0m0P",
      "execution_count": null,
      "outputs": []
    }
  ]
}